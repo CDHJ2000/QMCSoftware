{
 "cells": [
  {
   "cell_type": "code",
   "execution_count": 1,
   "metadata": {},
   "outputs": [
    {
     "name": "stdout",
     "output_type": "stream",
     "text": [
      "root directory = /Users/terrya/Documents/ProgramData/QMCSoftware \n"
     ]
    }
   ],
   "source": [
    "# TODO do without...\n",
    "import os\n",
    "os.chdir(\"../..\")\n",
    "print(\"root directory = %s \" % os.getcwd())"
   ]
  },
  {
   "cell_type": "code",
   "execution_count": 2,
   "metadata": {},
   "outputs": [
    {
     "name": "stdout",
     "output_type": "stream",
     "text": [
      "0.1\n",
      "qmcpy\n"
     ]
    }
   ],
   "source": [
    "import qmcpy\n",
    "print(qmcpy.__version__)\n",
    "print(qmcpy.name)"
   ]
  },
  {
   "cell_type": "code",
   "execution_count": 3,
   "metadata": {},
   "outputs": [
    {
     "name": "stdout",
     "output_type": "stream",
     "text": [
      "root directory = /Users/terrya/Documents/ProgramData/QMCSoftware/qmcpy \n"
     ]
    }
   ],
   "source": [
    "# TODO do without...\n",
    "import os\n",
    "os.chdir(\"qmcpy\")\n",
    "print(\"root directory = %s \" % os.getcwd())"
   ]
  },
  {
   "cell_type": "code",
   "execution_count": 4,
   "metadata": {},
   "outputs": [],
   "source": [
    "from qmcpy.algorithms.measures.measures import *\n",
    "dim = 3\n",
    "measure = IIDZeroMeanGaussian(dimension=[dim], variance=[1 / 2])\n",
    "\n",
    "from qmcpy.algorithms.distribution.quasi_random import QuasiRandom\n",
    "distribution = QuasiRandom(true_distribution=Sobol(dimension=[dim]))"
   ]
  },
  {
   "cell_type": "code",
   "execution_count": 5,
   "metadata": {},
   "outputs": [],
   "source": [
    "from qmcpy.algorithms.integrand.keister import Keister\n",
    "integrand = Keister()"
   ]
  },
  {
   "cell_type": "code",
   "execution_count": 6,
   "metadata": {},
   "outputs": [],
   "source": [
    "from qmcpy.algorithms.stop.clt_rep import CLTRep\n",
    "stopping_criterion = CLTRep(distribution)"
   ]
  },
  {
   "cell_type": "code",
   "execution_count": 7,
   "metadata": {},
   "outputs": [],
   "source": [
    "from qmcpy.algorithms.integrate import integrate\n",
    "sol, data = integrate(integrand, measure, distribution, stopping_criterion)"
   ]
  },
  {
   "cell_type": "code",
   "execution_count": 8,
   "metadata": {},
   "outputs": [
    {
     "name": "stdout",
     "output_type": "stream",
     "text": [
      "Solution: 2.1681         \n",
      "~~~~~~~~~~~~~~~~~~~~~~~~~~~~~~~~~~~~~~~~~~~~~~~~~~\n",
      "Keister (Function Object)\n",
      "IIDZeroMeanGaussian (Measure Type)\n",
      "                dimension: [3]            \n",
      "QuasiRandom (Distribution Object)\n",
      "true_distribution.measureName: Sobol          \n",
      "CLTRep (StoppingCriterion Object)\n",
      "                  abs_tol: 0.0100         \n",
      "                  rel_tol: 0.0000         \n",
      "                    n_max: 100000000\n",
      "                  inflate: 1.2000         \n",
      "                    alpha: 0.0100         \n",
      "MeanVarDataRep (Data Object)\n",
      "          n_samples_total: [1024]         \n",
      "                  t_total: 0.0194         \n",
      "               confid_int: [2.16794177 2.1682829 ]\n",
      "\n"
     ]
    }
   ],
   "source": [
    "from qmcpy.workouts import print_summary\n",
    "print_summary(stopping_criterion, measure, integrand, distribution, data)"
   ]
  },
  {
   "cell_type": "code",
   "execution_count": null,
   "metadata": {},
   "outputs": [],
   "source": []
  }
 ],
 "metadata": {
  "kernelspec": {
   "display_name": "pyqmc",
   "language": "python",
   "name": "pyqmc"
  },
  "language_info": {
   "codemirror_mode": {
    "name": "ipython",
    "version": 3
   },
   "file_extension": ".py",
   "mimetype": "text/x-python",
   "name": "python",
   "nbconvert_exporter": "python",
   "pygments_lexer": "ipython3",
   "version": "3.7.4"
  }
 },
 "nbformat": 4,
 "nbformat_minor": 1
}
