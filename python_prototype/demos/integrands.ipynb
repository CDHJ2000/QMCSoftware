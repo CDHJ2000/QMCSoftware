{
 "cells": [
  {
   "cell_type": "markdown",
   "metadata": {},
   "source": [
    "Suppose we want to create the an integrand in QMCPy for evaluating the following integral: \n",
    "    $$ \\int_{[0,1]^d} \\|x\\|_2^{\\|x\\|_2^{1/2}} dx,$$\n",
    "where $[0,1]^d$ is the unit hypercube in $\\mathbb{R}^d$. The integrand is defined everywhere except at $x=0$ and hence the definite integal is also defined.\n",
    "    \n",
    "    \n",
    "The key in defining a Python function of an integrand in the QMCPy framework is that not only  it should be able to take one point $x \\in \\mathbb{R}^d$ and return a real value, but also that it would be able to take a set of $n$ sampling points as rows in a Numpy array of size $n \\times d$ and return an array with $n$ values evaluated at each sampling point. The following examples illustrate this point."
   ]
  },
  {
   "cell_type": "code",
   "execution_count": 1,
   "metadata": {},
   "outputs": [],
   "source": [
    "from qmcpy import *\n",
    "from numpy.linalg import norm as norm\n",
    "from numpy import sqrt, array"
   ]
  },
  {
   "cell_type": "markdown",
   "metadata": {},
   "source": [
    "Our first attempt maybe to create the integrand as a Python function as follows:"
   ]
  },
  {
   "cell_type": "code",
   "execution_count": 2,
   "metadata": {},
   "outputs": [],
   "source": [
    "def f(x): return norm(x) ** sqrt(norm(x))"
   ]
  },
  {
   "cell_type": "markdown",
   "metadata": {},
   "source": [
    "It looks reasonable except that maybe the Numpy function norm is executed twice. It's okay for now. Let us quickly test if the function behaves as expected at a point value:"
   ]
  },
  {
   "cell_type": "code",
   "execution_count": 3,
   "metadata": {},
   "outputs": [
    {
     "data": {
      "text/plain": [
       "0.6309573444801932"
      ]
     },
     "execution_count": 3,
     "metadata": {},
     "output_type": "execute_result"
    }
   ],
   "source": [
    "x = 0.01\n",
    "f(x)"
   ]
  },
  {
   "cell_type": "markdown",
   "metadata": {},
   "source": [
    "What about an array that represents $n=3$ sampling points in a two-dimensional domain, i.e., $d=2$? "
   ]
  },
  {
   "cell_type": "code",
   "execution_count": 4,
   "metadata": {},
   "outputs": [],
   "source": [
    "x = array([[1, 0], \n",
    "           [0, 0.01],\n",
    "           [0.04, 0.04]])"
   ]
  },
  {
   "cell_type": "code",
   "execution_count": 5,
   "metadata": {},
   "outputs": [
    {
     "data": {
      "text/plain": [
       "1.001650000560437"
      ]
     },
     "execution_count": 5,
     "metadata": {},
     "output_type": "execute_result"
    }
   ],
   "source": [
    "f(x)"
   ]
  },
  {
   "cell_type": "markdown",
   "metadata": {},
   "source": [
    "Now, the function should have returned $n=3$ real values that correponding to each of the sampling points. Let's debug our Python function."
   ]
  },
  {
   "cell_type": "code",
   "execution_count": 6,
   "metadata": {
    "scrolled": true
   },
   "outputs": [
    {
     "data": {
      "text/plain": [
       "1.0016486409914407"
      ]
     },
     "execution_count": 6,
     "metadata": {},
     "output_type": "execute_result"
    }
   ],
   "source": [
    "norm(x)"
   ]
  },
  {
   "cell_type": "markdown",
   "metadata": {},
   "source": [
    "Numpy's norm(x) is obviously a matrix norm, but we want it to be vector 2-norm that acts on each row of x. To that end, let's add an axis argument to the function:"
   ]
  },
  {
   "cell_type": "code",
   "execution_count": 7,
   "metadata": {},
   "outputs": [
    {
     "data": {
      "text/plain": [
       "array([ 1.000,  0.010,  0.057])"
      ]
     },
     "execution_count": 7,
     "metadata": {},
     "output_type": "execute_result"
    }
   ],
   "source": [
    "norm(x, axis = 1)"
   ]
  },
  {
   "cell_type": "markdown",
   "metadata": {},
   "source": [
    "Now it's working! Let's make sure that the sqrt function is acting on each element of the vector norm results:"
   ]
  },
  {
   "cell_type": "code",
   "execution_count": 8,
   "metadata": {},
   "outputs": [
    {
     "data": {
      "text/plain": [
       "array([ 1.000,  0.100,  0.238])"
      ]
     },
     "execution_count": 8,
     "metadata": {},
     "output_type": "execute_result"
    }
   ],
   "source": [
    "sqrt(norm(x, axis = 1))"
   ]
  },
  {
   "cell_type": "markdown",
   "metadata": {},
   "source": [
    "It is. Putting everything together, we have:"
   ]
  },
  {
   "cell_type": "code",
   "execution_count": 9,
   "metadata": {
    "scrolled": true
   },
   "outputs": [
    {
     "data": {
      "text/plain": [
       "array([ 1.000,  0.631,  0.505])"
      ]
     },
     "execution_count": 9,
     "metadata": {},
     "output_type": "execute_result"
    }
   ],
   "source": [
    "norm(x, axis = 1) ** sqrt(norm(x, axis = 1))"
   ]
  },
  {
   "cell_type": "markdown",
   "metadata": {},
   "source": [
    "We have got our proper function definition now."
   ]
  },
  {
   "cell_type": "code",
   "execution_count": 10,
   "metadata": {},
   "outputs": [],
   "source": [
    "def f(x):\n",
    "    x_norms = norm(x, axis = 1)\n",
    "    return x_norms ** sqrt(x_norms)"
   ]
  },
  {
   "cell_type": "markdown",
   "metadata": {},
   "source": [
    "We can now create an integrand instance with our QuickConstruct class in QMCPy and then invoke QMCPy's integrate function:"
   ]
  },
  {
   "cell_type": "code",
   "execution_count": 11,
   "metadata": {
    "scrolled": true
   },
   "outputs": [
    {
     "name": "stdout",
     "output_type": "stream",
     "text": [
      "Solution: 0.6596         \n",
      "QuickConstruct (Integrand Object)\n",
      "\tfun_str         def f(x):\n",
      "\t                   x_norms = norm(x, axis = 1)\n",
      "\t                   return x_norms ** sqrt(x_norms)\n",
      "IIDStdUniform (Discrete Distribution Object)\n",
      "\tmimics          StdUniform\n",
      "\trng_seed        None\n",
      "Uniform (True Measure Object)\n",
      "\tdimension       1\n",
      "\ta               0\n",
      "\tb               1\n",
      "CLT (Stopping Criterion Object)\n",
      "\tabs_tol         0.010\n",
      "\trel_tol         0\n",
      "\tn_max           10000000000\n",
      "\talpha           0.010\n",
      "\tinflate         1.200\n",
      "MeanVarData (AccumData Object)\n",
      "\tn               3232\n",
      "\tn_total         4256.0\n",
      "\tconfid_int      [ 0.649  0.670]\n",
      "\ttime_total      0.004\n",
      "\n"
     ]
    }
   ],
   "source": [
    "integrand = QuickConstruct(custom_fun=f)\n",
    "sol, data = integrate(integrand, Uniform(1))\n",
    "print(data)"
   ]
  },
  {
   "cell_type": "markdown",
   "metadata": {},
   "source": [
    "For our integral, we know the true value. Let's check if QMCPy's solution is accurate enough:"
   ]
  },
  {
   "cell_type": "code",
   "execution_count": 12,
   "metadata": {},
   "outputs": [
    {
     "name": "stdout",
     "output_type": "stream",
     "text": [
      "True\n"
     ]
    }
   ],
   "source": [
    "true_sol = 0.658582  # In WolframAlpha: Integral[x**Sqrt[x], {x,0,1}]\n",
    "abs_tol = data.stopping_criterion.abs_tol\n",
    "qmcpy_error = abs(true_sol - sol)\n",
    "print(qmcpy_error < abs_tol)"
   ]
  },
  {
   "cell_type": "markdown",
   "metadata": {},
   "source": [
    "It's good. Shall we test the function with $d=2$ by simply changing the input parameter value of dimension for QuickConstruct?"
   ]
  },
  {
   "cell_type": "code",
   "execution_count": 13,
   "metadata": {},
   "outputs": [
    {
     "name": "stdout",
     "output_type": "stream",
     "text": [
      "Solution: 0.8278         \n",
      "QuickConstruct (Integrand Object)\n",
      "\tfun_str         def f(x):\n",
      "\t                   x_norms = norm(x, axis = 1)\n",
      "\t                   return x_norms ** sqrt(x_norms)\n",
      "IIDStdUniform (Discrete Distribution Object)\n",
      "\tmimics          StdUniform\n",
      "\trng_seed        None\n",
      "Uniform (True Measure Object)\n",
      "\tdimension       2\n",
      "\ta               0\n",
      "\tb               1\n",
      "CLT (Stopping Criterion Object)\n",
      "\tabs_tol         0.010\n",
      "\trel_tol         0\n",
      "\tn_max           10000000000\n",
      "\talpha           0.010\n",
      "\tinflate         1.200\n",
      "MeanVarData (AccumData Object)\n",
      "\tn               5425\n",
      "\tn_total         6449.0\n",
      "\tconfid_int      [ 0.818  0.838]\n",
      "\ttime_total      0.002\n",
      "\n"
     ]
    }
   ],
   "source": [
    "integrand2 = QuickConstruct(custom_fun=f)\n",
    "sol2, data2 = integrate(integrand2, Uniform(2))\n",
    "print(data2)"
   ]
  },
  {
   "cell_type": "markdown",
   "metadata": {},
   "source": [
    "Once again, we could test for accuracy of QMCPy with respect to the true value:"
   ]
  },
  {
   "cell_type": "code",
   "execution_count": 14,
   "metadata": {},
   "outputs": [
    {
     "name": "stdout",
     "output_type": "stream",
     "text": [
      "True\n"
     ]
    }
   ],
   "source": [
    "true_sol2 = 0.827606  # In WolframAlpha: Integral[Sqrt[x**2+y**2])**Sqrt[Sqrt[x**2+y**2]], {x,0,1}, {y,0,1}]\n",
    "abs_tol2 = data2.stopping_criterion.abs_tol\n",
    "qmcpy_error2 = abs(true_sol2 - sol2)\n",
    "print(qmcpy_error2 < abs_tol2)"
   ]
  },
  {
   "cell_type": "markdown",
   "metadata": {},
   "source": [
    "## Keister Example"
   ]
  },
  {
   "cell_type": "code",
   "execution_count": 15,
   "metadata": {},
   "outputs": [
    {
     "name": "stdout",
     "output_type": "stream",
     "text": [
      "Solution: 2.1477         \n",
      "Keister (Integrand Object)\n",
      "Sobol (Discrete Distribution Object)\n",
      "\tmimics          StdUniform\n",
      "\trng_seed        7\n",
      "Gaussian (True Measure Object)\n",
      "\tdimension       3\n",
      "\tmu              0\n",
      "\tsigma           0.707\n",
      "CLTRep (Stopping Criterion Object)\n",
      "\tabs_tol         0.050\n",
      "\trel_tol         0\n",
      "\tn_max           1048576\n",
      "\talpha           0.010\n",
      "\tinflate         1.200\n",
      "MeanVarDataRep (AccumData Object)\n",
      "\tn               32\n",
      "\tn_total         32\n",
      "\tconfid_int      [ 2.126  2.169]\n",
      "\ttime_total      0.008\n",
      "\tr               16\n",
      "\n"
     ]
    }
   ],
   "source": [
    "integrand = Keister()\n",
    "discrete_distrib = Sobol(rng_seed=7)\n",
    "true_measure = Gaussian(dimension=3, variance=1 / 2)\n",
    "stopping_criterion = CLTRep(discrete_distrib, true_measure, abs_tol=.05)\n",
    "_, data = integrate(integrand, true_measure, discrete_distrib, stopping_criterion)\n",
    "print(data)"
   ]
  },
  {
   "cell_type": "markdown",
   "metadata": {},
   "source": [
    "## Asian Option Pricing Example"
   ]
  },
  {
   "cell_type": "code",
   "execution_count": 16,
   "metadata": {},
   "outputs": [
    {
     "name": "stdout",
     "output_type": "stream",
     "text": [
      "Solution: 6.2021         \n",
      "AsianCall (Integrand Object)\n",
      "\tvolatility      0.500\n",
      "\tstart_price     30\n",
      "\tstrike_price    25\n",
      "\tinterest_rate   0\n",
      "\tmean_type       arithmetic\n",
      "\texercise_time   1.0\n",
      "Lattice (Discrete Distribution Object)\n",
      "\tmimics          StdUniform\n",
      "\trng_seed        7\n",
      "BrownianMotion (True Measure Object)\n",
      "\tdimension       64\n",
      "\ttime_vector     [[ 0.016  0.031  0.047 ...  0.969  0.984  1.000]]\n",
      "CLTRep (Stopping Criterion Object)\n",
      "\tabs_tol         0.050\n",
      "\trel_tol         0\n",
      "\tn_max           1048576\n",
      "\talpha           0.010\n",
      "\tinflate         1.200\n",
      "MeanVarDataRep (AccumData Object)\n",
      "\tn               2048\n",
      "\tn_total         2048\n",
      "\tconfid_int      [ 6.200  6.204]\n",
      "\ttime_total      0.473\n",
      "\tr               16\n",
      "\n"
     ]
    }
   ],
   "source": [
    "# Singl-Level\n",
    "time_vec = [arange(1 / 64, 65 / 64, 1 / 64)]\n",
    "dim = [len(tv) for tv in time_vec]\n",
    "\n",
    "discrete_distrib = Lattice(rng_seed=7)\n",
    "true_measure = BrownianMotion(dim, time_vector=time_vec)\n",
    "integrand = AsianCall(true_measure)\n",
    "stopping_criterion = CLTRep(discrete_distrib, true_measure, abs_tol=.05)\n",
    "_, data = integrate(integrand, true_measure, discrete_distrib, stopping_criterion)\n",
    "print(data)"
   ]
  },
  {
   "cell_type": "code",
   "execution_count": 17,
   "metadata": {},
   "outputs": [
    {
     "name": "stdout",
     "output_type": "stream",
     "text": [
      "Solution: 5.8335         \n",
      "AsianCall (Integrand Object)\n",
      "\tvolatility      0.500\n",
      "\tstart_price     30\n",
      "\tstrike_price    25\n",
      "\tinterest_rate   0.010\n",
      "\tmean_type       geometric\n",
      "\texercise_time   1.0\n",
      "IIDStdGaussian (Discrete Distribution Object)\n",
      "\tmimics          StdGaussian\n",
      "\trng_seed        7\n",
      "BrownianMotion (True Measure Object)\n",
      "\tdimension       [ 4 16 64]\n",
      "\ttime_vector     [array([ 0.250,  0.500,  0.750,  1.000])\n",
      "\t                array([ 0.062,  0.125,  0.188, ...,  0.875,  0.938,  1.000])\n",
      "\t                array([ 0.016,  0.031,  0.047, ...,  0.969,  0.984,  1.000])]\n",
      "CLT (Stopping Criterion Object)\n",
      "\tabs_tol         0.050\n",
      "\trel_tol         0\n",
      "\tn_max           10000000000\n",
      "\talpha           0.010\n",
      "\tinflate         1.200\n",
      "MeanVarData (AccumData Object)\n",
      "\tn               [ 248458.000  33175.000  5226.000]\n",
      "\tn_total         289931.0\n",
      "\tconfid_int      [ 5.785  5.882]\n",
      "\ttime_total      0.152\n",
      "\n"
     ]
    }
   ],
   "source": [
    "# Multi-Level\n",
    "time_vec = [arange(1 / 4, 5 / 4, 1 / 4),\n",
    "                 arange(1 / 16, 17 / 16, 1 / 16),\n",
    "                 arange(1 / 64, 65 / 64, 1 / 64)]\n",
    "dim = [len(tv) for tv in time_vec]\n",
    "\n",
    "discrete_distrib = IIDStdGaussian(rng_seed=7)\n",
    "true_measure = BrownianMotion(dim, time_vector=time_vec)\n",
    "integrand = AsianCall(true_measure,\n",
    "                volatility = .5,\n",
    "                start_price = 30,\n",
    "                strike_price = 25,\n",
    "                interest_rate = .01,\n",
    "                mean_type = 'geometric')\n",
    "stopping_criterion = CLT(discrete_distrib, true_measure, abs_tol=.05, n_max = 1e10)\n",
    "_, data = integrate(integrand, true_measure, discrete_distrib, stopping_criterion)\n",
    "print(data)"
   ]
  },
  {
   "cell_type": "code",
   "execution_count": null,
   "metadata": {},
   "outputs": [],
   "source": []
  }
 ],
 "metadata": {
  "kernelspec": {
   "display_name": "Python 3",
   "language": "python",
   "name": "python3"
  },
  "language_info": {
   "codemirror_mode": {
    "name": "ipython",
    "version": 3
   },
   "file_extension": ".py",
   "mimetype": "text/x-python",
   "name": "python",
   "nbconvert_exporter": "python",
   "pygments_lexer": "ipython3",
   "version": "3.6.8"
  }
 },
 "nbformat": 4,
 "nbformat_minor": 1
}
