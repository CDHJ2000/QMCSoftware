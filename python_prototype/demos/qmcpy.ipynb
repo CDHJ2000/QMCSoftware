{
 "cells": [
  {
   "cell_type": "code",
   "execution_count": 1,
   "metadata": {},
   "outputs": [
    {
     "name": "stdout",
     "output_type": "stream",
     "text": [
      "root directory = /Users/terrya/Documents/ProgramData/QMCSoftware/python_prototype \n"
     ]
    }
   ],
   "source": [
    "import os\n",
    "os.chdir(\"../\")\n",
    "print(\"root directory = %s \" % os.getcwd())\n",
    "#! python setup.py install\n",
    "\n",
    "#import sys\n",
    "#print(sys.executable) # which python it is using\n",
    "#print(sys.path # where it is looking to import packages)"
   ]
  },
  {
   "cell_type": "code",
   "execution_count": 2,
   "metadata": {},
   "outputs": [
    {
     "name": "stdout",
     "output_type": "stream",
     "text": [
      "0.1\n",
      "qmcpy\n"
     ]
    }
   ],
   "source": [
    "import qmcpy \n",
    "print(qmcpy.__version__)\n",
    "print(qmcpy.name)"
   ]
  },
  {
   "cell_type": "code",
   "execution_count": 3,
   "metadata": {},
   "outputs": [],
   "source": [
    "from qmcpy.measures.measures import *\n",
    "dim = 3\n",
    "measure = IIDZeroMeanGaussian(dimension=[dim], variance=[1 / 2])\n",
    "\n",
    "from qmcpy.distribution.quasi_random import QuasiRandom\n",
    "distribution = QuasiRandom(true_distribution=Sobol(dimension=[dim]))"
   ]
  },
  {
   "cell_type": "code",
   "execution_count": 4,
   "metadata": {},
   "outputs": [],
   "source": [
    "from qmcpy.integrand.keister import Keister\n",
    "integrand = Keister()"
   ]
  },
  {
   "cell_type": "code",
   "execution_count": 5,
   "metadata": {},
   "outputs": [],
   "source": [
    "from qmcpy.stop.clt_rep import CLTRep\n",
    "stopping_criterion = CLTRep(distribution)"
   ]
  },
  {
   "cell_type": "code",
   "execution_count": 6,
   "metadata": {},
   "outputs": [],
   "source": [
    "from qmcpy.integrate import integrate\n",
    "sol, data = integrate(integrand, measure, distribution, stopping_criterion)"
   ]
  },
  {
   "cell_type": "code",
   "execution_count": 7,
   "metadata": {
    "scrolled": true
   },
   "outputs": [
    {
     "name": "stdout",
     "output_type": "stream",
     "text": [
      "Keister (Integrand Object)\n",
      "IIDZeroMeanGaussian (Measure Object)\n",
      "                dimension: [3]            \n",
      "QuasiRandom (Distribution Object)\n",
      "      true_distribution.measureName: Sobol          \n",
      "CLTRep (StoppingCriterion Object)\n",
      "                  abs_tol: 0.0100         \n",
      "                  rel_tol: 0.0000         \n",
      "                    n_max: 100000000\n",
      "                  inflate: 1.2000         \n",
      "                    alpha: 0.0100         \n",
      "Solution: 2.1684         \n",
      "~~~~~~~~~~~~~~~~~~~~~~~~~~~~~~~~~~~~~~~~~~~~~~~~~~\n",
      "Keister (Integrand Object)\n",
      "IIDZeroMeanGaussian (Measure Object)\n",
      "                dimension: [3]            \n",
      "QuasiRandom (Distribution Object)\n",
      "      true_distribution.measureName: Sobol          \n",
      "CLTRep (StoppingCriterion Object)\n",
      "                  abs_tol: 0.0100         \n",
      "                  rel_tol: 0.0000         \n",
      "                    n_max: 100000000\n",
      "                  inflate: 1.2000         \n",
      "                    alpha: 0.0100         \n",
      "MeanVarDataRep (Data Object)\n",
      "          n_samples_total: [1024]         \n",
      "                  t_total: 0.0210         \n",
      "               confid_int: [2.16819508 2.16859827]\n"
     ]
    }
   ],
   "source": [
    "from qmcpy import summarize\n",
    "summarize(stopping_criterion, measure, integrand, distribution)"
   ]
  },
  {
   "cell_type": "markdown",
   "metadata": {},
   "source": [
    "# Efficient Import"
   ]
  },
  {
   "cell_type": "code",
   "execution_count": 8,
   "metadata": {},
   "outputs": [
    {
     "name": "stdout",
     "output_type": "stream",
     "text": [
      "root directory = /Users/terrya/Documents/ProgramData/QMCSoftware \n"
     ]
    }
   ],
   "source": [
    "import os\n",
    "os.chdir(\"../\")\n",
    "print(\"root directory = %s \" % os.getcwd())\n",
    "#! python setup.py install"
   ]
  },
  {
   "cell_type": "code",
   "execution_count": 9,
   "metadata": {},
   "outputs": [
    {
     "name": "stdout",
     "output_type": "stream",
     "text": [
      "0.1\n",
      "qmcpy\n"
     ]
    }
   ],
   "source": [
    "import qmcpy as qp\n",
    "print(qp.__version__)\n",
    "print(qp.name)"
   ]
  },
  {
   "cell_type": "code",
   "execution_count": 10,
   "metadata": {},
   "outputs": [
    {
     "name": "stdout",
     "output_type": "stream",
     "text": [
      "Solution: 2.1680         \n",
      "~~~~~~~~~~~~~~~~~~~~~~~~~~~~~~~~~~~~~~~~~~~~~~~~~~\n",
      "Keister (Integrand Object)\n",
      "IIDZeroMeanGaussian (Measure Object)\n",
      "                dimension: [3]            \n",
      "QuasiRandom (Distribution Object)\n",
      "      true_distribution.measureName: Sobol          \n",
      "CLTRep (StoppingCriterion Object)\n",
      "                  abs_tol: 0.0100         \n",
      "                  rel_tol: 0.0000         \n",
      "                    n_max: 100000000\n",
      "                  inflate: 1.2000         \n",
      "                    alpha: 0.0100         \n",
      "MeanVarDataRep (Data Object)\n",
      "          n_samples_total: [1024]         \n",
      "                  t_total: 0.0202         \n",
      "               confid_int: [2.16781029 2.16816399]\n"
     ]
    }
   ],
   "source": [
    "dim = 3\n",
    "measure = qp.IIDZeroMeanGaussian(dimension=[dim], variance=[1 / 2])\n",
    "distribution = qp.QuasiRandom(true_distribution=qp.Sobol(dimension=[dim]))\n",
    "integrand = qp.Keister()\n",
    "stopping_criterion = qp.CLTRep(distribution)\n",
    "sol, data = qp.integrate(integrand, measure, distribution, stopping_criterion)\n",
    "#qp.print_summary(stopping_criterion, measure, integrand, distribution, data)\n",
    "qp.summarize(data)"
   ]
  },
  {
   "cell_type": "code",
   "execution_count": null,
   "metadata": {},
   "outputs": [],
   "source": []
  },
  {
   "cell_type": "code",
   "execution_count": null,
   "metadata": {},
   "outputs": [],
   "source": []
  }
 ],
 "metadata": {
  "kernelspec": {
   "display_name": "pyqmc",
   "language": "python",
   "name": "pyqmc"
  },
  "language_info": {
   "codemirror_mode": {
    "name": "ipython",
    "version": 3
   },
   "file_extension": ".py",
   "mimetype": "text/x-python",
   "name": "python",
   "nbconvert_exporter": "python",
   "pygments_lexer": "ipython3",
   "version": "3.7.4"
  }
 },
 "nbformat": 4,
 "nbformat_minor": 1
}
