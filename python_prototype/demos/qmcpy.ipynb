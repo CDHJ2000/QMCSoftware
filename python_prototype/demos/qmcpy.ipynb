{
 "cells": [
  {
   "cell_type": "code",
   "execution_count": 1,
   "metadata": {},
   "outputs": [
    {
     "name": "stdout",
     "output_type": "stream",
     "text": [
      "0.1\n",
      "qmcpy\n"
     ]
    }
   ],
   "source": [
    "import qmcpy \n",
    "print(qmcpy.__version__)\n",
    "print(qmcpy.name)"
   ]
  },
  {
   "cell_type": "code",
   "execution_count": 2,
   "metadata": {},
   "outputs": [],
   "source": [
    "from qmcpy import integrate\n",
    "from qmcpy.integrand import Keister\n",
    "from qmcpy.discrete_distribution import Sobol\n",
    "from qmcpy.true_measure import Gaussian\n",
    "from qmcpy.stopping_criterion import CLTRep"
   ]
  },
  {
   "cell_type": "code",
   "execution_count": 3,
   "metadata": {},
   "outputs": [
    {
     "name": "stdout",
     "output_type": "stream",
     "text": [
      "Solution: 2.1667         \n",
      "Keister (Integrand Object)\n",
      "Sobol (Discrete Distribution Object)\n",
      "\tmimics          StdUniform\n",
      "\trng_seed        None\n",
      "Gaussian (True Measure Object)\n",
      "CLTRep (Stopping Criterion Object)\n",
      "\tabs_tol         0.010\n",
      "\trel_tol         0\n",
      "\tn_max           1048576\n",
      "\talpha           0.010\n",
      "\tinflate         1.200\n",
      "MeanVarDataRep (AccumData Object)\n",
      "\tn_total         256\n",
      "\tconfid_int      [ 2.165  2.168]\n",
      "\ttime_total      0.014\n",
      "\tr               16\n",
      "\n"
     ]
    }
   ],
   "source": [
    "integrand = Keister()\n",
    "dim = 3\n",
    "true_measure = Gaussian(dimension=dim, variance=1/2)\n",
    "discrete_distrib = Sobol()\n",
    "stop = CLTRep(discrete_distrib, true_measure, abs_tol=.01)\n",
    "sol, data = integrate(integrand, true_measure, discrete_distrib, stop)\n",
    "print(data)"
   ]
  },
  {
   "cell_type": "markdown",
   "metadata": {},
   "source": [
    "# Efficient Import"
   ]
  },
  {
   "cell_type": "code",
   "execution_count": 4,
   "metadata": {},
   "outputs": [
    {
     "name": "stdout",
     "output_type": "stream",
     "text": [
      "0.1\n"
     ]
    }
   ],
   "source": [
    "import qmcpy as qp\n",
    "print(qp.__version__)"
   ]
  },
  {
   "cell_type": "code",
   "execution_count": 5,
   "metadata": {},
   "outputs": [
    {
     "name": "stdout",
     "output_type": "stream",
     "text": [
      "Solution: 2.1674         \n",
      "Keister (Integrand Object)\n",
      "Sobol (Discrete Distribution Object)\n",
      "\tmimics          StdUniform\n",
      "\trng_seed        None\n",
      "Gaussian (True Measure Object)\n",
      "CLTRep (Stopping Criterion Object)\n",
      "\tabs_tol         0.010\n",
      "\trel_tol         0\n",
      "\tn_max           1048576\n",
      "\talpha           0.010\n",
      "\tinflate         1.200\n",
      "MeanVarDataRep (AccumData Object)\n",
      "\tn_total         512\n",
      "\tconfid_int      [ 2.167  2.168]\n",
      "\ttime_total      0.017\n",
      "\tr               16\n",
      "\n"
     ]
    }
   ],
   "source": [
    "integrand = qp.Keister()\n",
    "dim = 3\n",
    "true_measure = qp.Gaussian(dimension=dim, variance=1/2)\n",
    "discrete_distrib = qp.Sobol()\n",
    "stop = qp.CLTRep(discrete_distrib, true_measure, abs_tol=.01)\n",
    "sol, data = qp.integrate(integrand, true_measure, discrete_distrib, stop)\n",
    "print(data)"
   ]
  },
  {
   "cell_type": "markdown",
   "metadata": {},
   "source": [
    "# Efficient Import 2"
   ]
  },
  {
   "cell_type": "code",
   "execution_count": 6,
   "metadata": {},
   "outputs": [],
   "source": [
    "from qmcpy import *"
   ]
  },
  {
   "cell_type": "code",
   "execution_count": 7,
   "metadata": {},
   "outputs": [
    {
     "name": "stdout",
     "output_type": "stream",
     "text": [
      "Solution: 2.1660         \n",
      "Keister (Integrand Object)\n",
      "Sobol (Discrete Distribution Object)\n",
      "\tmimics          StdUniform\n",
      "\trng_seed        None\n",
      "Gaussian (True Measure Object)\n",
      "CLTRep (Stopping Criterion Object)\n",
      "\tabs_tol         0.010\n",
      "\trel_tol         0\n",
      "\tn_max           1048576\n",
      "\talpha           0.010\n",
      "\tinflate         1.200\n",
      "MeanVarDataRep (AccumData Object)\n",
      "\tn_total         256\n",
      "\tconfid_int      [ 2.165  2.167]\n",
      "\ttime_total      0.018\n",
      "\tr               16\n",
      "\n"
     ]
    }
   ],
   "source": [
    "integrand = Keister()\n",
    "dim = 3\n",
    "true_measure = Gaussian(dimension=dim, variance=1/2)\n",
    "discrete_distrib = Sobol()\n",
    "stop = CLTRep(discrete_distrib, true_measure, abs_tol=.01)\n",
    "sol, data = integrate(integrand, true_measure, discrete_distrib, stop)\n",
    "print(data)"
   ]
  }
 ],
 "metadata": {
  "kernelspec": {
   "display_name": "Python 3",
   "language": "python",
   "name": "python3"
  },
  "language_info": {
   "codemirror_mode": {
    "name": "ipython",
    "version": 3
   },
   "file_extension": ".py",
   "mimetype": "text/x-python",
   "name": "python",
   "nbconvert_exporter": "python",
   "pygments_lexer": "ipython3",
   "version": "3.6.8"
  }
 },
 "nbformat": 4,
 "nbformat_minor": 1
}
