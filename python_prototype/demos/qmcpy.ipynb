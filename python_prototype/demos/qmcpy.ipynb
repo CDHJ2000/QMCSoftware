{
 "cells": [
  {
   "cell_type": "code",
   "execution_count": 1,
   "metadata": {},
   "outputs": [
    {
     "name": "stdout",
     "output_type": "stream",
     "text": [
      "root directory = /Users/terrya/Documents/ProgramData/QMCSoftware/python_prototype \n"
     ]
    }
   ],
   "source": [
    "import os\n",
    "os.chdir(\"../\")\n",
    "print(\"root directory = %s \" % os.getcwd())\n",
    "#! python setup.py install"
   ]
  },
  {
   "cell_type": "code",
   "execution_count": 2,
   "metadata": {},
   "outputs": [
    {
     "name": "stdout",
     "output_type": "stream",
     "text": [
      "0.1\n",
      "qmcpy\n"
     ]
    }
   ],
   "source": [
    "import qmcpy \n",
    "print(qmcpy.__version__)\n",
    "print(qmcpy.name)"
   ]
  },
  {
   "cell_type": "code",
   "execution_count": 3,
   "metadata": {},
   "outputs": [],
   "source": [
    "from qmcpy import integrate\n",
    "from qmcpy._util import summarize\n",
    "from qmcpy.integrand import Keister\n",
    "from qmcpy.discrete_distribution import Sobol\n",
    "from qmcpy.true_measure import Gaussian\n",
    "from qmcpy.stopping_criterion import CLTRep"
   ]
  },
  {
   "cell_type": "code",
   "execution_count": 4,
   "metadata": {},
   "outputs": [
    {
     "name": "stdout",
     "output_type": "stream",
     "text": [
      "Solution: 2.1684         \n",
      "~~~~~~~~~~~~~~~~~~~~~~~~~~~~~~~~~~~~~~~~~~~~~~~~~~\n",
      "Keister (Integrand Object)\n",
      "Sobol (Discrete Distribution Object)\n",
      "Gaussian (True Distribution Object)\n",
      "CLTRep (StoppingCriterion Object)\n",
      "                  abs_tol: 0.0100         \n",
      "                  rel_tol: 0.0000         \n",
      "                    n_max: 100000000\n",
      "                  inflate: 1.2000         \n",
      "                    alpha: 0.0100        \n",
      "MeanVarDataRep (Data Object)\n",
      "          n_samples_total: [1024]         \n",
      "               time_total: 0.0186         \n",
      "               confid_int: [2.16813516 2.16859205]\n",
      "\n"
     ]
    }
   ],
   "source": [
    "dim = 3\n",
    "integrand = Keister()\n",
    "discrete_distrib = Sobol()\n",
    "true_measure = Gaussian(dimension=dim,variance=1/2)\n",
    "stop = CLTRep(discrete_distrib, true_measure, abs_tol=.01)\n",
    "sol, data = integrate(integrand, true_measure, discrete_distrib, stop)\n",
    "data.summarize()"
   ]
  },
  {
   "cell_type": "markdown",
   "metadata": {},
   "source": [
    "# Efficient Import"
   ]
  },
  {
   "cell_type": "code",
   "execution_count": 1,
   "metadata": {},
   "outputs": [
    {
     "name": "stdout",
     "output_type": "stream",
     "text": [
      "root directory = /Users/terrya/Documents/ProgramData/QMCSoftware/python_prototype \n"
     ]
    }
   ],
   "source": [
    "import os\n",
    "os.chdir(\"../\")\n",
    "print(\"root directory = %s \" % os.getcwd())\n",
    "#! python setup.py install"
   ]
  },
  {
   "cell_type": "code",
   "execution_count": 2,
   "metadata": {},
   "outputs": [
    {
     "name": "stdout",
     "output_type": "stream",
     "text": [
      "0.1\n"
     ]
    }
   ],
   "source": [
    "import qmcpy as qp\n",
    "print(qp.__version__)"
   ]
  },
  {
   "cell_type": "code",
   "execution_count": 3,
   "metadata": {},
   "outputs": [
    {
     "name": "stdout",
     "output_type": "stream",
     "text": [
      "Solution: 2.1689         \n",
      "~~~~~~~~~~~~~~~~~~~~~~~~~~~~~~~~~~~~~~~~~~~~~~~~~~\n",
      "Keister (Integrand Object)\n",
      "Sobol (Discrete Distribution Object)\n",
      "Gaussian (True Distribution Object)\n",
      "CLTRep (StoppingCriterion Object)\n",
      "                  abs_tol: 0.0100         \n",
      "                  rel_tol: 0.0000         \n",
      "                    n_max: 100000000\n",
      "                  inflate: 1.2000         \n",
      "                    alpha: 0.0100        \n",
      "MeanVarDataRep (Data Object)\n",
      "          n_samples_total: [1024]         \n",
      "               time_total: 0.0192         \n",
      "               confid_int: [2.16874147 2.16911905]\n",
      "\n"
     ]
    }
   ],
   "source": [
    "dim = 3\n",
    "integrand = qp.Keister()\n",
    "discrete_distrib = qp.Sobol()\n",
    "true_measure = qp.Gaussian(dimension=dim, variance=1/2)\n",
    "stop = qp.CLTRep(discrete_distrib,true_measure, abs_tol=.01)\n",
    "sol, data = qp.integrate(integrand, true_measure, discrete_distrib, stop)\n",
    "data.summarize()"
   ]
  }
 ],
 "metadata": {
  "kernelspec": {
   "display_name": "pyqmc",
   "language": "python",
   "name": "pyqmc"
  },
  "language_info": {
   "codemirror_mode": {
    "name": "ipython",
    "version": 3
   },
   "file_extension": ".py",
   "mimetype": "text/x-python",
   "name": "python",
   "nbconvert_exporter": "python",
   "pygments_lexer": "ipython3",
   "version": "3.7.4"
  }
 },
 "nbformat": 4,
 "nbformat_minor": 1
}
