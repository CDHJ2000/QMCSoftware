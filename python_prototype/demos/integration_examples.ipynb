{
 "cells": [
  {
   "cell_type": "markdown",
   "metadata": {},
   "source": [
    "# Integration Examples using QMCPy package"
   ]
  },
  {
   "cell_type": "code",
   "execution_count": 1,
   "metadata": {},
   "outputs": [],
   "source": [
    "from qmcpy import *\n",
    "\n",
    "from numpy import arange"
   ]
  },
  {
   "cell_type": "markdown",
   "metadata": {},
   "source": [
    "## Keister Example\n",
    "Keister Integrand:\n",
    "- $y_i = \\pi^{d/2} * \\cos(||x_i||_2)$\n",
    "    \n",
    "Gaussian True Measure:\n",
    "- $\\mathcal{N}(0,\\frac{1}{2})$\n",
    "    \n",
    "Sobol Discrete Distribution:\n",
    "- $x_j \\overset{lds}{\\sim}    \\mathcal{U}(0,1)$"
   ]
  },
  {
   "cell_type": "code",
   "execution_count": 2,
   "metadata": {},
   "outputs": [
    {
     "name": "stdout",
     "output_type": "stream",
     "text": [
      "Solution: 2.1477         \n",
      "Keister (Integrand Object)\n",
      "Sobol (Discrete Distribution Object)\n",
      "\tmimics          StdUniform\n",
      "Gaussian (True Measure Object)\n",
      "\tdimension       3\n",
      "\tmu              0\n",
      "\tsigma           0.707\n",
      "CLTRep (Stopping Criterion Object)\n",
      "\tabs_tol         0.050\n",
      "\trel_tol         0\n",
      "\tn_max           1048576\n",
      "\talpha           0.010\n",
      "\tinflate         1.200\n",
      "MeanVarDataRep (AccumData Object)\n",
      "\tr               16\n",
      "\tn               32\n",
      "\tn_total         32.0\n",
      "\tconfid_int      [ 2.126  2.169]\n",
      "\ttime_total      0.009\n",
      "\n"
     ]
    }
   ],
   "source": [
    "integrand = Keister()\n",
    "discrete_distrib = Sobol(rng_seed=7)\n",
    "true_measure = Gaussian(dimension=3, variance=1 / 2)\n",
    "stopping_criterion = CLTRep(discrete_distrib, true_measure, abs_tol=.05)\n",
    "_, data = integrate(integrand, true_measure, discrete_distrib, stopping_criterion)\n",
    "print(data)"
   ]
  },
  {
   "cell_type": "markdown",
   "metadata": {},
   "source": [
    "## Asian Option Pricing Example\n",
    "### Single Level \n",
    "Asian Call Option Integrand\n",
    "- $S_i(t_j)=S(0)e^{(r-\\frac{\\sigma^2}{2})t_j+\\sigma\\mathcal{B}(t_j)}$\n",
    "- discounted put payoff $= max(K-\\frac{1}{d}\\sum_{j=0}^{d-1} S(jT/d))\\;,\\: 0)$\n",
    "\n",
    "Brownian Motion True Measure: \n",
    "- $\\:\\: \\mathcal{B}(t_j)=B(t_{j-1})+Z_j\\sqrt{t_j-t_{j-1}} \\;$ for $\\;Z_j \\sim \\mathcal{N}(0,1)$\n",
    "\n",
    "Lattice Discrete Distribution:\n",
    "- $\\:\\: x_j  \\overset{lds}{\\sim}    \\mathcal{U}(0,1)$"
   ]
  },
  {
   "cell_type": "code",
   "execution_count": 3,
   "metadata": {},
   "outputs": [
    {
     "name": "stdout",
     "output_type": "stream",
     "text": [
      "Solution: 5.8356         \n",
      "AsianCall (Integrand Object)\n",
      "\tvolatility      0.500\n",
      "\tstart_price     30\n",
      "\tstrike_price    25\n",
      "\tinterest_rate   0.010\n",
      "\tmean_type       geometric\n",
      "\texercise_time   1.0\n",
      "Lattice (Discrete Distribution Object)\n",
      "\tmimics          StdUniform\n",
      "BrownianMotion (True Measure Object)\n",
      "\tdimension       64\n",
      "\ttime_vector     [[ 0.016  0.031  0.047 ...  0.969  0.984  1.000]]\n",
      "CLTRep (Stopping Criterion Object)\n",
      "\tabs_tol         0.050\n",
      "\trel_tol         0\n",
      "\tn_max           1048576\n",
      "\talpha           0.010\n",
      "\tinflate         1.200\n",
      "MeanVarDataRep (AccumData Object)\n",
      "\tr               16\n",
      "\tn               2048\n",
      "\tn_total         2048.0\n",
      "\tconfid_int      [ 5.833  5.838]\n",
      "\ttime_total      0.485\n",
      "\n"
     ]
    }
   ],
   "source": [
    "time_vec = [arange(1 / 64, 65 / 64, 1 / 64)]\n",
    "dim = [len(tv) for tv in time_vec]\n",
    "\n",
    "discrete_distrib = Lattice(rng_seed=7)\n",
    "true_measure = BrownianMotion(dim, time_vector=time_vec)\n",
    "integrand = AsianCall(true_measure,\n",
    "                volatility = .5,\n",
    "                start_price = 30,\n",
    "                strike_price = 25,\n",
    "                interest_rate = .01,\n",
    "                mean_type = 'geometric')\n",
    "stopping_criterion = CLTRep(discrete_distrib, true_measure, abs_tol=.05)\n",
    "_, data = integrate(integrand, true_measure, discrete_distrib, stopping_criterion)\n",
    "print(data)"
   ]
  },
  {
   "cell_type": "markdown",
   "metadata": {},
   "source": [
    "## Asian Option Pricing Example\n",
    "### Multi-Level\n",
    "$Y_0 = 0$\n",
    "\n",
    "$Y_1$ = Asian Option Monitored at $t=[\\frac{1}{4}, \\frac{1}{2}, \\frac{3}{4}, 1]$\n",
    "\n",
    "$Y_2$ = Asian Option Monitored at $t=[\\frac{1}{16}, \\frac{1}{8}, ... , 1]$\n",
    "\n",
    "$Y_3$ = Asian Option Monitored at $t=[\\frac{1}{64}, \\frac{1}{32}, ... , 1]$\n",
    "\n",
    "$Z_1 = \\mathbb{E}[Y_1-Y_0] + \\mathbb{E}[Y_2-Y_1] + \\mathbb{E}[Y_3-Y_2] = \\mathbb{E}[Y_3]$"
   ]
  },
  {
   "cell_type": "code",
   "execution_count": 4,
   "metadata": {},
   "outputs": [
    {
     "name": "stdout",
     "output_type": "stream",
     "text": [
      "Solution: 5.8349         \n",
      "AsianCall (Integrand Object)\n",
      "\tvolatility      0.500\n",
      "\tstart_price     30\n",
      "\tstrike_price    25\n",
      "\tinterest_rate   0.010\n",
      "\tmean_type       geometric\n",
      "\texercise_time   1.0\n",
      "IIDStdGaussian (Discrete Distribution Object)\n",
      "\tmimics          StdGaussian\n",
      "BrownianMotion (True Measure Object)\n",
      "\tdimension       [ 4 16 64]\n",
      "\ttime_vector     [array([ 0.250,  0.500,  0.750,  1.000])\n",
      "\t                array([ 0.062,  0.125,  0.188, ...,  0.875,  0.938,  1.000])\n",
      "\t                array([ 0.016,  0.031,  0.047, ...,  0.969,  0.984,  1.000])]\n",
      "CLT (Stopping Criterion Object)\n",
      "\tabs_tol         0.050\n",
      "\trel_tol         0\n",
      "\tn_max           10000000000\n",
      "\talpha           0.010\n",
      "\tinflate         1.200\n",
      "MeanVarData (AccumData Object)\n",
      "\tn               [ 255867.000  28280.000  4950.000]\n",
      "\tn_total         292169.0\n",
      "\tconfid_int      [ 5.786  5.884]\n",
      "\ttime_total      0.137\n",
      "\n"
     ]
    }
   ],
   "source": [
    "time_vec = [arange(1 / 4, 5 / 4, 1 / 4),\n",
    "                 arange(1 / 16, 17 / 16, 1 / 16),\n",
    "                 arange(1 / 64, 65 / 64, 1 / 64)]\n",
    "dim = [len(tv) for tv in time_vec]\n",
    "\n",
    "discrete_distrib = IIDStdGaussian(rng_seed=7)\n",
    "true_measure = BrownianMotion(dim, time_vector=time_vec)\n",
    "integrand = AsianCall(true_measure,\n",
    "                volatility = .5,\n",
    "                start_price = 30,\n",
    "                strike_price = 25,\n",
    "                interest_rate = .01,\n",
    "                mean_type = 'geometric')\n",
    "stopping_criterion = CLT(discrete_distrib, true_measure, abs_tol=.05, n_max = 1e10)\n",
    "_, data = integrate(integrand, true_measure, discrete_distrib, stopping_criterion)\n",
    "print(data)"
   ]
  },
  {
   "cell_type": "code",
   "execution_count": null,
   "metadata": {},
   "outputs": [],
   "source": []
  }
 ],
 "metadata": {
  "kernelspec": {
   "display_name": "Python 3",
   "language": "python",
   "name": "python3"
  },
  "language_info": {
   "codemirror_mode": {
    "name": "ipython",
    "version": 3
   },
   "file_extension": ".py",
   "mimetype": "text/x-python",
   "name": "python",
   "nbconvert_exporter": "python",
   "pygments_lexer": "ipython3",
   "version": "3.6.8"
  }
 },
 "nbformat": 4,
 "nbformat_minor": 1
}
