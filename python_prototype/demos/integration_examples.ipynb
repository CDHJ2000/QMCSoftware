{
 "cells": [
  {
   "cell_type": "markdown",
   "metadata": {},
   "source": [
    "# Integration Examples using QMCPy package"
   ]
  },
  {
   "cell_type": "markdown",
   "metadata": {},
   "source": [
    "In this demo, we show how to use `qmcpy` for performing numerical multiple integration of two built-in integrands, namely, the Keister function and the Asian put option payoff. To start, we import the `qmcpy` module and the function `arrange()` from `numpy` for generating evenly spaced discrete vectors in the examples."
   ]
  },
  {
   "cell_type": "code",
   "execution_count": 1,
   "metadata": {},
   "outputs": [],
   "source": [
    "from qmcpy import *\n",
    "from numpy import arange"
   ]
  },
  {
   "cell_type": "markdown",
   "metadata": {},
   "source": [
    "## Keister Example\n",
    "\n",
    "We recall briefly the mathematical definitions of the Keister function, the Gaussian measure, and the Sobol distribution:\n",
    "\n",
    "* Keister integrand: $y_j = \\pi^{d/2} \\cos(||x_j||_2)$\n",
    "    \n",
    "* Gaussian true measure: $\\mathcal{N}(0,\\frac{1}{2})$\n",
    "    \n",
    "* Sobol discrete distribution: $x_j \\overset{lds}{\\sim} \\mathcal{U}(0,1)$"
   ]
  },
  {
   "cell_type": "markdown",
   "metadata": {},
   "source": [
    "The following code snippet integrates a three-dimensional Keister function numerically by creating instances of `qmcpy`'s built-in classes, `Keister`, `Gaussian`, `Sobol` and `CLTRep`, as inputs to the function `integrate()`. "
   ]
  },
  {
   "cell_type": "code",
   "execution_count": 2,
   "metadata": {},
   "outputs": [
    {
     "name": "stdout",
     "output_type": "stream",
     "text": [
      "Solution: 2.1477         \n",
      "Keister (Integrand Object)\n",
      "Sobol (Discrete Distribution Object)\n",
      "\tmimics          StdUniform\n",
      "\trng_seed        7\n",
      "\tbackend         mps\n",
      "Gaussian (True Measure Object)\n",
      "\tdimension       3\n",
      "\tmu              0\n",
      "\tsigma           0.707\n",
      "CLTRep (Stopping Criterion Object)\n",
      "\tabs_tol         0.050\n",
      "\trel_tol         0\n",
      "\tn_max           1073741824\n",
      "\tinflate         1.200\n",
      "\talpha           0.010\n",
      "MeanVarDataRep (AccumData Object)\n",
      "\tn               32\n",
      "\tn_total         32\n",
      "\tconfid_int      [ 2.126  2.169]\n",
      "\ttime_total      0.005\n",
      "\tr               16\n",
      "\n"
     ]
    }
   ],
   "source": [
    "dim = 3\n",
    "integrand = Keister(dim)\n",
    "true_measure = Gaussian(dim, variance=1 / 2)\n",
    "discrete_distrib = Sobol(rng_seed=7)\n",
    "stopping_criterion = CLTRep(discrete_distrib, true_measure, abs_tol=0.05)\n",
    "_, data = integrate(integrand, true_measure, discrete_distrib, stopping_criterion)\n",
    "print(data)"
   ]
  },
  {
   "cell_type": "markdown",
   "metadata": {},
   "source": [
    "## European Arithmetic-Mean Asian Put Option: Single Level \n",
    "\n",
    "In this example, we want to estimate the payoff of an European Asian put option that matures at time $T$. The key mathematical entities are defined as follows:\n",
    "\n",
    "* Stock price at time $t_j := jT/d$ for $j=1,\\dots,d$ is a function of its initial price $S(0)$, interest rate $r$, and volatility $\\sigma$: $S(t_j) = S(0)e^{\\left(r-\\frac{\\sigma^2}{2}\\right)t_j + \\sigma\\mathcal{B}(t_j)}$\n",
    "\n",
    "* Discounted put option payoff is defined as the difference of a fixed strike price $K$ and the arithmetic average of the underlying stock prices at $d$ discrete time intervals in $[0,T]$: $max \\left(K-\\frac{1}{d}\\sum_{j=1}^{d} S(t_j), 0 \\right) e^{-rT}$\n",
    "\n",
    "* Brownian motion true measure: $\\mathcal{B}(t_j) = B(t_{j-1}) + Z_j\\sqrt{t_j-t_{j-1}} \\;$ for $\\;Z_j \\sim \\mathcal{N}(0,1)$\n",
    "\n",
    "* Lattice discrete distribution: $\\:\\: x_j  \\overset{lds}{\\sim}    \\mathcal{U}(0,1)$"
   ]
  },
  {
   "cell_type": "code",
   "execution_count": 3,
   "metadata": {},
   "outputs": [
    {
     "name": "stdout",
     "output_type": "stream",
     "text": [
      "Solution: 6.2640         \n",
      "AsianCall (Integrand Object)\n",
      "\tvolatility      0.500\n",
      "\tstart_price     30\n",
      "\tstrike_price    25\n",
      "\tinterest_rate   0.010\n",
      "\tmean_type       arithmetic\n",
      "\texercise_time   1\n",
      "Lattice (Discrete Distribution Object)\n",
      "\tmimics          StdUniform\n",
      "\trng_seed        7\n",
      "BrownianMotion (True Measure Object)\n",
      "\tdimension       64\n",
      "\ttime_vector     [ 0.016  0.031  0.047 ...  0.969  0.984  1.000]\n",
      "CLTRep (Stopping Criterion Object)\n",
      "\tabs_tol         0.050\n",
      "\trel_tol         0\n",
      "\tn_max           1073741824\n",
      "\tinflate         1.200\n",
      "\talpha           0.010\n",
      "MeanVarDataRep (AccumData Object)\n",
      "\tn               4096\n",
      "\tn_total         4096\n",
      "\tconfid_int      [ 6.263  6.265]\n",
      "\ttime_total      0.592\n",
      "\tr               16\n",
      "\n"
     ]
    }
   ],
   "source": [
    "time_vec = [arange(1 / 64, 65 / 64, 1 / 64)]\n",
    "dim = [len(tv) for tv in time_vec]\n",
    "\n",
    "discrete_distrib = Lattice(rng_seed=7)\n",
    "true_measure = BrownianMotion(dim, time_vector=time_vec)\n",
    "integrand = AsianCall(true_measure,\n",
    "                      volatility = 0.5,\n",
    "                      start_price = 30,\n",
    "                      strike_price = 25,\n",
    "                      interest_rate = 0.01,\n",
    "                      mean_type = 'arithmetic')\n",
    "stopping_criterion = CLTRep(discrete_distrib, true_measure, abs_tol=0.05)\n",
    "_, data = integrate(integrand, true_measure, discrete_distrib, stopping_criterion)\n",
    "print(data)"
   ]
  },
  {
   "cell_type": "markdown",
   "metadata": {},
   "source": [
    "## European Arithmetic-Mean Asian Put Option: Multi-Level\n",
    "\n",
    "This example is similar to the last one except that we use Gile's multi-level method for estimation of the option price.  The main idea can be summarized as follows:\n",
    "\n",
    "$Y_0 = 0$\n",
    "\n",
    "$Y_1 = \\mbox{ Asian option monitored at } t = [\\frac{1}{4}, \\frac{1}{2}, \\frac{3}{4}, 1]$\n",
    "\n",
    "$Y_2 = \\mbox{ Asian option monitored at } t= [\\frac{1}{16}, \\frac{1}{8}, ... , 1]$\n",
    "\n",
    "$Y_3 = \\mbox{ Asian option monitored at } t= [\\frac{1}{64}, \\frac{1}{32}, ... , 1]$\n",
    "\n",
    "$Z_1 = \\mathbb{E}[Y_1-Y_0] + \\mathbb{E}[Y_2-Y_1] + \\mathbb{E}[Y_3-Y_2] = \\mathbb{E}[Y_3]$"
   ]
  },
  {
   "cell_type": "markdown",
   "metadata": {},
   "source": [
    "The total run time for this example is about one-third of that for the last example."
   ]
  },
  {
   "cell_type": "code",
   "execution_count": 4,
   "metadata": {},
   "outputs": [
    {
     "name": "stdout",
     "output_type": "stream",
     "text": [
      "Solution: 6.2598         \n",
      "AsianCall (Integrand Object)\n",
      "\tvolatility      [ 0.500  0.500  0.500]\n",
      "\tstart_price     [30 30 30]\n",
      "\tstrike_price    [25 25 25]\n",
      "\tinterest_rate   [ 0.010  0.010  0.010]\n",
      "\tmean_type       ['arithmetic' 'arithmetic' 'arithmetic']\n",
      "\texercise_time   [ 1.000  1.000  1.000]\n",
      "IIDStdGaussian (Discrete Distribution Object)\n",
      "\tmimics          StdGaussian\n",
      "BrownianMotion (True Measure Object)\n",
      "\tdimension       [ 4 16 64]\n",
      "\ttime_vector     [array([ 0.250,  0.500,  0.750,  1.000])\n",
      "\t                array([ 0.062,  0.125,  0.188, ...,  0.875,  0.938,  1.000])\n",
      "\t                array([ 0.016,  0.031,  0.047, ...,  0.969,  0.984,  1.000])]\n",
      "CLT (Stopping Criterion Object)\n",
      "\tabs_tol         0.050\n",
      "\trel_tol         0\n",
      "\tn_max           10000000000\n",
      "\tinflate         1.200\n",
      "\talpha           0.010\n",
      "MeanVarData (AccumData Object)\n",
      "\tn               [ 282751.000  38810.000  5961.000]\n",
      "\tn_total         330594\n",
      "\tconfid_int      [ 6.211  6.309]\n",
      "\ttime_total      0.097\n",
      "\n"
     ]
    }
   ],
   "source": [
    "time_vec = [arange(1 / 4, 5 / 4, 1 / 4),\n",
    "            arange(1 / 16, 17 / 16, 1 / 16),\n",
    "            arange(1 / 64, 65 / 64, 1 / 64)]\n",
    "dim = [len(tv) for tv in time_vec]\n",
    "\n",
    "discrete_distrib = IIDStdGaussian(rng_seed=7)\n",
    "true_measure = BrownianMotion(dim, time_vector=time_vec)\n",
    "integrand = AsianCall(true_measure,\n",
    "                      volatility = 0.5,\n",
    "                      start_price = 30,\n",
    "                      strike_price = 25,\n",
    "                      interest_rate = 0.01,\n",
    "                      mean_type = 'arithmetic')\n",
    "stopping_criterion = CLT(discrete_distrib, true_measure, abs_tol=0.05, n_max = 1e10)\n",
    "_, data = integrate(integrand, true_measure, discrete_distrib, stopping_criterion)\n",
    "print(data)"
   ]
  }
 ],
 "metadata": {
  "kernelspec": {
   "display_name": "Python 3",
   "language": "python",
   "name": "python3"
  },
  "language_info": {
   "codemirror_mode": {
    "name": "ipython",
    "version": 3
   },
   "file_extension": ".py",
   "mimetype": "text/x-python",
   "name": "python",
   "nbconvert_exporter": "python",
   "pygments_lexer": "ipython3",
   "version": "3.6.8"
  }
 },
 "nbformat": 4,
 "nbformat_minor": 1
}
