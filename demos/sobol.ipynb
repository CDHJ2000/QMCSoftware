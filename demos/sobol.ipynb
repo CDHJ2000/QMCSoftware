{
 "cells": [
  {
   "cell_type": "markdown",
   "metadata": {},
   "source": [
    "## A closer look at QMCPy's Sobol' generator"
   ]
  },
  {
   "cell_type": "code",
   "execution_count": 1,
   "metadata": {},
   "outputs": [],
   "source": [
    "from qmcpy import *\n",
    "from numpy import *\n",
    "from matplotlib import pyplot\n",
    "from time import time\n",
    "import os"
   ]
  },
  {
   "cell_type": "markdown",
   "metadata": {},
   "source": [
    "### Basic usage"
   ]
  },
  {
   "cell_type": "code",
   "execution_count": 2,
   "metadata": {},
   "outputs": [
    {
     "data": {
      "text/plain": [
       "Sobol (DiscreteDistribution Object)\n",
       "    dimension       5\n",
       "    randomize       1\n",
       "    graycode        0\n",
       "    seed            [61615 58564 49689 10742 53459]\n",
       "    mimics          StdUniform\n",
       "    dim0            0"
      ]
     },
     "execution_count": 2,
     "metadata": {},
     "output_type": "execute_result"
    }
   ],
   "source": [
    "s = Sobol(5,seed=7)\n",
    "s"
   ]
  },
  {
   "cell_type": "code",
   "execution_count": 3,
   "metadata": {},
   "outputs": [
    {
     "data": {
      "text/plain": [
       "array([[0.783, 0.173, 0.785, 0.153, 0.356],\n",
       "       [0.128, 0.816, 0.229, 0.685, 0.8  ],\n",
       "       [0.72 , 0.664, 0.326, 0.833, 0.101],\n",
       "       [0.316, 0.334, 0.63 , 0.364, 0.555]])"
      ]
     },
     "execution_count": 3,
     "metadata": {},
     "output_type": "execute_result"
    }
   ],
   "source": [
    "s.gen_samples(4) # generate Sobol' samples"
   ]
  },
  {
   "cell_type": "code",
   "execution_count": 4,
   "metadata": {},
   "outputs": [
    {
     "data": {
      "text/plain": [
       "array([[0.72 , 0.664, 0.326, 0.833, 0.101],\n",
       "       [0.316, 0.334, 0.63 , 0.364, 0.555]])"
      ]
     },
     "execution_count": 4,
     "metadata": {},
     "output_type": "execute_result"
    }
   ],
   "source": [
    "s.gen_samples(n_min=2,n_max=4) # generate from specific range. If range is not powers of 2, use graycode"
   ]
  },
  {
   "cell_type": "code",
   "execution_count": 5,
   "metadata": {},
   "outputs": [
    {
     "name": "stdout",
     "output_type": "stream",
     "text": [
      "Time: 2.16\n"
     ]
    }
   ],
   "source": [
    "t0 = time()\n",
    "s.gen_samples(2**25)\n",
    "print('Time: %.2f'%(time()-t0))"
   ]
  },
  {
   "cell_type": "markdown",
   "metadata": {},
   "source": [
    "### Randomize with digital shift / linear matrix scramble"
   ]
  },
  {
   "cell_type": "code",
   "execution_count": 6,
   "metadata": {},
   "outputs": [
    {
     "data": {
      "text/plain": [
       "array([[0.74 , 0.673],\n",
       "       [0.027, 0.21 ]])"
      ]
     },
     "execution_count": 6,
     "metadata": {},
     "output_type": "execute_result"
    }
   ],
   "source": [
    "s = Sobol(2,randomize='LMS') # linear matrix scramble (default) (includes digital shift)\n",
    "s.gen_samples(2)"
   ]
  },
  {
   "cell_type": "code",
   "execution_count": 7,
   "metadata": {},
   "outputs": [
    {
     "data": {
      "text/plain": [
       "array([[0.33 , 0.332],\n",
       "       [0.83 , 0.832]])"
      ]
     },
     "execution_count": 7,
     "metadata": {},
     "output_type": "execute_result"
    }
   ],
   "source": [
    "s.set_randomize('DS') # just a digital shift\n",
    "s.gen_samples(2)"
   ]
  },
  {
   "cell_type": "markdown",
   "metadata": {},
   "source": [
    "### Support for graycode and natural ordering"
   ]
  },
  {
   "cell_type": "code",
   "execution_count": 8,
   "metadata": {},
   "outputs": [
    {
     "data": {
      "text/plain": [
       "array([[0.125, 0.625],\n",
       "       [0.625, 0.125],\n",
       "       [0.375, 0.375],\n",
       "       [0.875, 0.875]])"
      ]
     },
     "execution_count": 8,
     "metadata": {},
     "output_type": "execute_result"
    }
   ],
   "source": [
    "s = Sobol(2,randomize=False,graycode=False)\n",
    "s.gen_samples(n_min=4,n_max=8,warn=False) # don't warn about non-randomized samples including the orgin"
   ]
  },
  {
   "cell_type": "code",
   "execution_count": 9,
   "metadata": {},
   "outputs": [
    {
     "data": {
      "text/plain": [
       "array([[0.375, 0.375],\n",
       "       [0.875, 0.875],\n",
       "       [0.625, 0.125],\n",
       "       [0.125, 0.625]])"
      ]
     },
     "execution_count": 9,
     "metadata": {},
     "output_type": "execute_result"
    }
   ],
   "source": [
    "s.set_graycode(True)\n",
    "s.gen_samples(n_min=4,n_max=8,warn=False)"
   ]
  },
  {
   "cell_type": "markdown",
   "metadata": {},
   "source": [
    "## Seeding and skipping dimensions"
   ]
  },
  {
   "cell_type": "code",
   "execution_count": 10,
   "metadata": {},
   "outputs": [
    {
     "data": {
      "text/plain": [
       "array([[0.783, 0.173, 0.785],\n",
       "       [0.128, 0.816, 0.229]])"
      ]
     },
     "execution_count": 10,
     "metadata": {},
     "output_type": "execute_result"
    }
   ],
   "source": [
    "s = Sobol(3,graycode=True,seed=7) # set a single seed\n",
    "s.gen_samples(2)"
   ]
  },
  {
   "cell_type": "code",
   "execution_count": 11,
   "metadata": {},
   "outputs": [
    {
     "data": {
      "text/plain": [
       "array([[0.231, 0.791, 0.131],\n",
       "       [0.871, 0.39 , 0.85 ]])"
      ]
     },
     "execution_count": 11,
     "metadata": {},
     "output_type": "execute_result"
    }
   ],
   "source": [
    "s.set_seed([7,11,17]) # set a seed for each dimension\n",
    "s.gen_samples(2)"
   ]
  },
  {
   "cell_type": "code",
   "execution_count": 12,
   "metadata": {},
   "outputs": [
    {
     "name": "stdout",
     "output_type": "stream",
     "text": [
      "[[0.231 0.791 0.131 0.153]\n",
      " [0.871 0.39  0.85  0.685]]\n",
      "Sobol (DiscreteDistribution Object)\n",
      "    dimension       2^(2)\n",
      "    randomize       1\n",
      "    graycode        1\n",
      "    seed            [    7    11    17 10742]\n",
      "    mimics          StdUniform\n",
      "    dim0            0\n"
     ]
    }
   ],
   "source": [
    "s.set_dimension(4) # adding another dimension will give 1 new random seed\n",
    "print(s.gen_samples(2))\n",
    "print(s)"
   ]
  },
  {
   "cell_type": "code",
   "execution_count": 13,
   "metadata": {},
   "outputs": [
    {
     "name": "stdout",
     "output_type": "stream",
     "text": [
      "[[0.231 0.791]\n",
      " [0.871 0.39 ]]\n",
      "Sobol (DiscreteDistribution Object)\n",
      "    dimension       2^(1)\n",
      "    randomize       1\n",
      "    graycode        1\n",
      "    seed            [ 7 11]\n",
      "    mimics          StdUniform\n",
      "    dim0            0\n"
     ]
    }
   ],
   "source": [
    "s.set_dimension(2) # deleting dimensions will cut out the later seeds\n",
    "print(s.gen_samples(2))\n",
    "print(s)"
   ]
  },
  {
   "cell_type": "code",
   "execution_count": 14,
   "metadata": {},
   "outputs": [
    {
     "name": "stdout",
     "output_type": "stream",
     "text": [
      "[[0.791 0.131]\n",
      " [0.39  0.85 ]]\n"
     ]
    },
    {
     "data": {
      "text/plain": [
       "Sobol (DiscreteDistribution Object)\n",
       "    dimension       2^(1)\n",
       "    randomize       1\n",
       "    graycode        1\n",
       "    seed            [11 17]\n",
       "    mimics          StdUniform\n",
       "    dim0            1"
      ]
     },
     "execution_count": 14,
     "metadata": {},
     "output_type": "execute_result"
    }
   ],
   "source": [
    "# be careful, skipping dimensions does not skip seeds\n",
    "s.set_dim0(1)\n",
    "s.set_seed([11,17])\n",
    "print(s.gen_samples(2))\n",
    "s"
   ]
  },
  {
   "cell_type": "markdown",
   "metadata": {},
   "source": [
    "### Custom generating matricies"
   ]
  },
  {
   "cell_type": "code",
   "execution_count": 15,
   "metadata": {},
   "outputs": [
    {
     "name": "stdout",
     "output_type": "stream",
     "text": [
      "int64\n"
     ]
    },
    {
     "data": {
      "text/plain": [
       "array([[536870912, 805306368],\n",
       "       [536870912, 268435456]])"
      ]
     },
     "execution_count": 15,
     "metadata": {},
     "output_type": "execute_result"
    }
   ],
   "source": [
    "# a previously created generating matrix (not the default)\n",
    "z = load('../qmcpy/discrete_distribution/sobol/generating_matricies/sobol_mat.51.30.msb.npy')\n",
    "# max dimension 51, max samples 2^30, most significant bit in top of column\n",
    "print(z.dtype)\n",
    "z[:2,:2]"
   ]
  },
  {
   "cell_type": "code",
   "execution_count": 16,
   "metadata": {},
   "outputs": [
    {
     "name": "stdout",
     "output_type": "stream",
     "text": [
      "[[0.057 0.176 0.746]\n",
      " [0.985 0.972 0.362]\n",
      " [0.629 0.292 0.124]\n",
      " [0.322 0.623 0.991]]\n"
     ]
    }
   ],
   "source": [
    "z_custom = z[:10,:] # say this is our custom generating matrix. Make sure the datatype is numpy.int64\n",
    "d_max,m_max = z_custom.shape\n",
    "f_path = 'my_sobol_mat.%d.%d.msb.npy'%(d_max,m_max)\n",
    "save(f_path, z_custom)# save it to a file with proper naming convention\n",
    "s = Sobol(3,z_path=f_path) # plug in the path\n",
    "print(s.gen_samples(4))\n",
    "os.remove(f_path)"
   ]
  },
  {
   "cell_type": "markdown",
   "metadata": {},
   "source": [
    "# Elementay intervals"
   ]
  },
  {
   "cell_type": "code",
   "execution_count": 17,
   "metadata": {},
   "outputs": [],
   "source": [
    "def plt_ei(x,ax,x_cuts,y_cuts):\n",
    "    for ix in arange(1,x_cuts,dtype=float): ax.axvline(x=ix/x_cuts,color='r',alpha=.5)\n",
    "    for iy in arange(1,y_cuts,dtype=float): ax.axhline(y=iy/y_cuts,color='r',alpha=.5)\n",
    "    ax.scatter(x[:,0],x[:,1],color='b',s=25)\n",
    "    ax.set_xlim([0,1])\n",
    "    ax.set_xticks([0,1])\n",
    "    ax.set_ylim([0,1])\n",
    "    ax.set_yticks([0,1])\n",
    "    ax.set_aspect(1)"
   ]
  },
  {
   "cell_type": "code",
   "execution_count": 18,
   "metadata": {},
   "outputs": [
    {
     "data": {
      "image/png": "[encoded data removed]",
      "text/plain": [
       "<Figure size 1080x720 with 6 Axes>"
      ]
     },
     "metadata": {
      "needs_background": "light"
     },
     "output_type": "display_data"
    }
   ],
   "source": [
    "# unrandomized \n",
    "fig,ax = pyplot.subplots(ncols=3,nrows=2,figsize=(15,10))\n",
    "s = Sobol(2,randomize=False)\n",
    "plt_ei(s.gen_samples(2**2,warn=False),ax[0,0],2,2)\n",
    "plt_ei(s.gen_samples(2**3,warn=False),ax[1,0],8,0)\n",
    "plt_ei(s.gen_samples(2**4,warn=False),ax[0,1],4,4)\n",
    "plt_ei(s.gen_samples(2**4,warn=False),ax[1,1],2,8)\n",
    "plt_ei(s.gen_samples(2**6,warn=False),ax[0,2],8,8)\n",
    "plt_ei(s.gen_samples(2**6,warn=False),ax[1,2],16,4)\n",
    "fig.suptitle(\"Unrandomized Sobol' points\");"
   ]
  },
  {
   "cell_type": "code",
   "execution_count": 19,
   "metadata": {},
   "outputs": [
    {
     "data": {
      "image/png": "[encoded data removed]",
      "text/plain": [
       "<Figure size 1080x720 with 6 Axes>"
      ]
     },
     "metadata": {
      "needs_background": "light"
     },
     "output_type": "display_data"
    }
   ],
   "source": [
    "fig,ax = pyplot.subplots(ncols=3,nrows=2,figsize=(15,10))\n",
    "s = Sobol(2,randomize='LMS')\n",
    "plt_ei(s.gen_samples(2**2,warn=False),ax[0,0],2,2)\n",
    "plt_ei(s.gen_samples(2**3,warn=False),ax[1,0],8,0)\n",
    "plt_ei(s.gen_samples(2**4,warn=False),ax[0,1],4,4)\n",
    "plt_ei(s.gen_samples(2**4,warn=False),ax[1,1],2,8)\n",
    "plt_ei(s.gen_samples(2**6,warn=False),ax[0,2],8,8)\n",
    "plt_ei(s.gen_samples(2**6,warn=False),ax[1,2],16,4)\n",
    "fig.suptitle(\"Sobol' points with linear matrix scramble (and digital shift)\");"
   ]
  },
  {
   "cell_type": "code",
   "execution_count": 20,
   "metadata": {},
   "outputs": [
    {
     "data": {
      "image/png": "[encoded data removed]",
      "text/plain": [
       "<Figure size 1080x720 with 6 Axes>"
      ]
     },
     "metadata": {
      "needs_background": "light"
     },
     "output_type": "display_data"
    }
   ],
   "source": [
    "fig,ax = pyplot.subplots(ncols=3,nrows=2,figsize=(15,10))\n",
    "s = Sobol(2,graycode=True,randomize='DS')\n",
    "plt_ei(s.gen_samples(2**2,warn=False),ax[0,0],2,2)\n",
    "plt_ei(s.gen_samples(2**3,warn=False),ax[1,0],8,0)\n",
    "plt_ei(s.gen_samples(2**4,warn=False),ax[0,1],4,4)\n",
    "plt_ei(s.gen_samples(2**4,warn=False),ax[1,1],2,8)\n",
    "plt_ei(s.gen_samples(2**6,warn=False),ax[0,2],8,8)\n",
    "plt_ei(s.gen_samples(2**6,warn=False),ax[1,2],16,4)\n",
    "fig.suptitle(\"Sobol' points with digital shift\");"
   ]
  },
  {
   "cell_type": "code",
   "execution_count": 21,
   "metadata": {},
   "outputs": [
    {
     "data": {
      "image/png": "[encoded data removed]",
      "text/plain": [
       "<Figure size 1080x360 with 1 Axes>"
      ]
     },
     "metadata": {
      "needs_background": "light"
     },
     "output_type": "display_data"
    }
   ],
   "source": [
    "fig,ax = pyplot.subplots(figsize=(15,5))\n",
    "s = Sobol(2,randomize='LMS',dim0=50)\n",
    "plt_ei(s.gen_samples(2**4),ax,4,4)\n",
    "fig.suptitle(\"Sobol' points dimension 50 vs 51\");\n",
    "# nice properties do not necessary hold in higher dimensions"
   ]
  },
  {
   "cell_type": "code",
   "execution_count": 22,
   "metadata": {},
   "outputs": [
    {
     "data": {
      "image/png": "[encoded data removed]",
      "text/plain": [
       "<Figure size 1080x360 with 1 Axes>"
      ]
     },
     "metadata": {
      "needs_background": "light"
     },
     "output_type": "display_data"
    }
   ],
   "source": [
    "fig,ax = pyplot.subplots(figsize=(15,5))\n",
    "s = Sobol(2,randomize='LMS',graycode=True)\n",
    "plt_ei(s.gen_samples(n_min=1,n_max=16),ax,4,4)\n",
    "x16 = s.gen_samples(n_min=16,n_max=17)\n",
    "ax.scatter(x16[:,0],x16[:,1],color='g',s=100)\n",
    "fig.suptitle(\"Sobol' points 2-17\");\n",
    "# bbetter to take points 1-16 instead of 2-16"
   ]
  },
  {
   "cell_type": "markdown",
   "metadata": {},
   "source": [
    "### Skipping points vs randomization\n",
    "\n",
    "The first point in a Sobol' sequence is $\\vec{0}$. Therefore, some software packages skip this point as various transformations will map 0 to NAN. For example the inverse CDF of a Gaussian density at $\\vec{0}$ is $-\\infty$. However, we argue that it is better to randomize points than to simply skip the first point for the following reasons:\n",
    "\n",
    "1. Skipping the first point does not give the uniformity advantages when taking powers of 2. For example, notice the green point in the above plot of \"Sobol' points 2-17\".\n",
    "2. Randomizing Sobol' points will return 0 with probability 0\n",
    "\n",
    "A more thorough explanation can be found in Art Owen's paper [On dropping the first Sobol' point](https://arxiv.org/abs/2008.08051)\n",
    "\n",
    "So always randomize your Sobol' unless you specifically need unrandomized points. In QMCPy the Sobol' generator defaults to randomization with a linear matrix scramble.\n",
    "\n",
    "The below code runs tests comparing unrandomized vs randomization with linear matrix scramble with digital shift vs randomization with just digital shift. Furthermore, we compare taking the first $2^n$ points vs dropping the first point and taking $2^n$ points vs dropping the first point and taking $2^n-1$ points.\n",
    "\n",
    "The 2D keister function is used for testing purposes as it can be exactly integrated using mathematica:\\\n",
    "`N[Integrate[E^(-x1^2 - x2^2) Cos[Sqrt[x1^2 + x2^2]], {x1, -Infinity, Infinity}, {x2, -Infinity, Infinity}]]`\n",
    "\n",
    "Plots the median (line) and fills the middle 10% of observations"
   ]
  },
  {
   "cell_type": "code",
   "execution_count": 23,
   "metadata": {},
   "outputs": [],
   "source": [
    "def plt_k2d_sobol(ax,rtype,colors,plts=[1,2,3]):\n",
    "    trials = 100\n",
    "    solution = 1.808186429263620\n",
    "    ms = arange(10,18)\n",
    "    ax.set_xscale('log',basex=2)\n",
    "    ax.set_yscale('log',basey=10)\n",
    "    epsilons = {}\n",
    "    if 1 in plts:\n",
    "        epsilons['$2^m$ points with skipped $1^{st}$ point'] = zeros((trials,len(ms)),dtype=double)\n",
    "    if 2 in plts:\n",
    "        epsilons['$2^m-1$ points with skipped $1^{st}$ point'] = zeros((trials,len(ms)),dtype=double)\n",
    "    if 3 in plts:\n",
    "        epsilons['$2^n$ points no skippping'] = zeros((trials,len(ms)),dtype=double)\n",
    "    for i,m in enumerate(ms):\n",
    "        for t in range(trials):\n",
    "            s = Sobol(2,randomize=rtype,graycode=True)\n",
    "            k = Keister(Gaussian(s,mean=0,covariance=1/2))\n",
    "            if 1 in plts:\n",
    "                epsilons['$2^m$ points with skipped $1^{st}$ point'][t,i] = \\\n",
    "                     abs(k.f(s.gen_samples(n_min=1,n_max=1+2**m)).mean()-solution)\n",
    "            if 2 in plts:\n",
    "                epsilons['$2^m-1$ points with skipped $1^{st}$ point'][t,i] = \\\n",
    "                     abs(k.f(s.gen_samples(n_min=1,n_max=2**m)).mean()-solution)\n",
    "            if 3 in plts:\n",
    "                epsilons['$2^n$ points no skippping'][t,i] = \\\n",
    "                     abs(k.f(s.gen_samples(n=2**m)).mean()-solution)\n",
    "    for i,(label,eps) in enumerate(epsilons.items()):\n",
    "        bot = percentile(eps, 40, axis=0)\n",
    "        med = percentile(eps, 50, axis=0)\n",
    "        top = percentile(eps, 60, axis=0)\n",
    "        ax.loglog(2**ms,med,label=label+' with %s randomization'%rtype,color=colors[i])\n",
    "        ax.fill_between(2**ms, bot, top, color=colors[i], alpha=.3)     "
   ]
  },
  {
   "cell_type": "code",
   "execution_count": null,
   "metadata": {},
   "outputs": [],
   "source": [
    "# compare randomization fig,ax = pyplot.subplots(figsize=(10,10))\n",
    "fig,ax = pyplot.subplots(figsize=(10,10))\n",
    "plt_k2d_sobol(ax,None,['r','g'],[1,2])\n",
    "plt_k2d_sobol(ax,'LMS',['c','m','b'],[1,2,3])\n",
    "plt_k2d_sobol(ax,'DS',['y','k','orangered'],[1,2,3])\n",
    "ax.legend()\n",
    "ax.set_xlabel('n')\n",
    "ax.set_ylabel('$\\\\epsilon$');"
   ]
  },
  {
   "cell_type": "code",
   "execution_count": null,
   "metadata": {},
   "outputs": [],
   "source": []
  }
 ],
 "metadata": {
  "kernelspec": {
   "display_name": "Python 3",
   "language": "python",
   "name": "python3"
  },
  "language_info": {
   "codemirror_mode": {
    "name": "ipython",
    "version": 3
   },
   "file_extension": ".py",
   "mimetype": "text/x-python",
   "name": "python",
   "nbconvert_exporter": "python",
   "pygments_lexer": "ipython3",
   "version": "3.8.6"
  }
 },
 "nbformat": 4,
 "nbformat_minor": 4
}
