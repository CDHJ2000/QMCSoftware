{
 "cells": [
  {
   "cell_type": "markdown",
   "metadata": {},
   "source": [
    "## A closer look at QMCPy's Sobol' generator"
   ]
  },
  {
   "cell_type": "code",
   "execution_count": 1,
   "metadata": {},
   "outputs": [],
   "source": [
    "from qmcpy import Sobol\n",
    "from numpy import *\n",
    "from matplotlib import pyplot\n",
    "from time import time\n",
    "import os"
   ]
  },
  {
   "cell_type": "markdown",
   "metadata": {},
   "source": [
    "### Basic usage"
   ]
  },
  {
   "cell_type": "code",
   "execution_count": 2,
   "metadata": {},
   "outputs": [
    {
     "data": {
      "text/plain": [
       "Sobol (DiscreteDistribution Object)\n",
       "    dimension       5\n",
       "    randomize       1\n",
       "    graycode        0\n",
       "    seed            [ 327741615  976413892 3349725721 1369975286 1882953283]\n",
       "    mimics          StdUniform\n",
       "    dim0            0"
      ]
     },
     "execution_count": 2,
     "metadata": {},
     "output_type": "execute_result"
    }
   ],
   "source": [
    "s = Sobol(5,seed=7)\n",
    "s"
   ]
  },
  {
   "cell_type": "code",
   "execution_count": 3,
   "metadata": {},
   "outputs": [
    {
     "data": {
      "text/plain": [
       "array([[0.305, 0.74 , 0.462, 0.676, 0.558],\n",
       "       [0.814, 0.497, 0.839, 0.116, 0.159],\n",
       "       [0.217, 0.172, 0.686, 0.422, 0.861],\n",
       "       [0.663, 0.913, 0.06 , 0.857, 0.48 ]])"
      ]
     },
     "execution_count": 3,
     "metadata": {},
     "output_type": "execute_result"
    }
   ],
   "source": [
    "s.gen_samples(4)"
   ]
  },
  {
   "cell_type": "code",
   "execution_count": 4,
   "metadata": {},
   "outputs": [
    {
     "data": {
      "text/plain": [
       "array([[0.217, 0.172, 0.686, 0.422, 0.861],\n",
       "       [0.663, 0.913, 0.06 , 0.857, 0.48 ]])"
      ]
     },
     "execution_count": 4,
     "metadata": {},
     "output_type": "execute_result"
    }
   ],
   "source": [
    "s.gen_samples(n_min=2,n_max=4) # generate from specific range. If range is not powers of 2, use graycode"
   ]
  },
  {
   "cell_type": "code",
   "execution_count": 5,
   "metadata": {},
   "outputs": [
    {
     "name": "stdout",
     "output_type": "stream",
     "text": [
      "Time: 1.07\n"
     ]
    }
   ],
   "source": [
    "t0 = time()\n",
    "s.gen_samples(2**25)\n",
    "print('Time: %.2f'%(time()-t0))"
   ]
  },
  {
   "cell_type": "markdown",
   "metadata": {},
   "source": [
    "### Randomize with digital shift / linear matrix scramble"
   ]
  },
  {
   "cell_type": "code",
   "execution_count": 6,
   "metadata": {},
   "outputs": [
    {
     "data": {
      "text/plain": [
       "array([[0.67 , 0.246],\n",
       "       [0.163, 0.583]])"
      ]
     },
     "execution_count": 6,
     "metadata": {},
     "output_type": "execute_result"
    }
   ],
   "source": [
    "s = Sobol(2,randomize='LMS') # linear matrix scramble (default) (includes digital shift)\n",
    "s.gen_samples(2)"
   ]
  },
  {
   "cell_type": "code",
   "execution_count": 7,
   "metadata": {},
   "outputs": [
    {
     "data": {
      "text/plain": [
       "array([[0.01 , 0.213],\n",
       "       [0.51 , 0.713]])"
      ]
     },
     "execution_count": 7,
     "metadata": {},
     "output_type": "execute_result"
    }
   ],
   "source": [
    "s.set_randomize('DS') # just a digital shift\n",
    "s.gen_samples(2)"
   ]
  },
  {
   "cell_type": "markdown",
   "metadata": {},
   "source": [
    "### Support for graycode and natural ordering"
   ]
  },
  {
   "cell_type": "code",
   "execution_count": 8,
   "metadata": {},
   "outputs": [
    {
     "data": {
      "text/plain": [
       "array([[0.125, 0.625],\n",
       "       [0.625, 0.125],\n",
       "       [0.375, 0.375],\n",
       "       [0.875, 0.875]])"
      ]
     },
     "execution_count": 8,
     "metadata": {},
     "output_type": "execute_result"
    }
   ],
   "source": [
    "s = Sobol(2,randomize=False,graycode=False)\n",
    "s.gen_samples(n_min=4,n_max=8,warn=False) # don't warn about non-randomized samples including the orgin"
   ]
  },
  {
   "cell_type": "code",
   "execution_count": 9,
   "metadata": {},
   "outputs": [
    {
     "data": {
      "text/plain": [
       "array([[0.375, 0.375],\n",
       "       [0.875, 0.875],\n",
       "       [0.625, 0.125],\n",
       "       [0.125, 0.625]])"
      ]
     },
     "execution_count": 9,
     "metadata": {},
     "output_type": "execute_result"
    }
   ],
   "source": [
    "s.set_graycode(True)\n",
    "s.gen_samples(n_min=4,n_max=8,warn=False)"
   ]
  },
  {
   "cell_type": "markdown",
   "metadata": {},
   "source": [
    "## Seeding and skipping dimensions"
   ]
  },
  {
   "cell_type": "code",
   "execution_count": 10,
   "metadata": {},
   "outputs": [
    {
     "data": {
      "text/plain": [
       "array([[0.305, 0.74 , 0.462],\n",
       "       [0.814, 0.497, 0.839]])"
      ]
     },
     "execution_count": 10,
     "metadata": {},
     "output_type": "execute_result"
    }
   ],
   "source": [
    "s = Sobol(3,graycode=True,seed=7) # set a single seed\n",
    "s.gen_samples(2)"
   ]
  },
  {
   "cell_type": "code",
   "execution_count": 11,
   "metadata": {},
   "outputs": [
    {
     "data": {
      "text/plain": [
       "array([[0.231, 0.791, 0.131],\n",
       "       [0.871, 0.39 , 0.85 ]])"
      ]
     },
     "execution_count": 11,
     "metadata": {},
     "output_type": "execute_result"
    }
   ],
   "source": [
    "s.set_seed([7,11,17]) # set a seed for each dimension\n",
    "s.gen_samples(2)"
   ]
  },
  {
   "cell_type": "code",
   "execution_count": 12,
   "metadata": {},
   "outputs": [
    {
     "name": "stdout",
     "output_type": "stream",
     "text": [
      "[[0.231 0.791 0.131 0.676]\n",
      " [0.871 0.39  0.85  0.116]]\n",
      "Sobol (DiscreteDistribution Object)\n",
      "    dimension       2^(2)\n",
      "    randomize       1\n",
      "    graycode        1\n",
      "    seed            [         7         11         17 1369975286]\n",
      "    mimics          StdUniform\n",
      "    dim0            0\n"
     ]
    }
   ],
   "source": [
    "s.set_dimension(4) # adding another dimension will give 1 new random seed\n",
    "print(s.gen_samples(2))\n",
    "print(s)"
   ]
  },
  {
   "cell_type": "code",
   "execution_count": 13,
   "metadata": {},
   "outputs": [
    {
     "name": "stdout",
     "output_type": "stream",
     "text": [
      "[[0.231 0.791]\n",
      " [0.871 0.39 ]]\n",
      "Sobol (DiscreteDistribution Object)\n",
      "    dimension       2^(1)\n",
      "    randomize       1\n",
      "    graycode        1\n",
      "    seed            [ 7 11]\n",
      "    mimics          StdUniform\n",
      "    dim0            0\n"
     ]
    }
   ],
   "source": [
    "s.set_dimension(2) # deleting dimensions will cut out the later seeds\n",
    "print(s.gen_samples(2))\n",
    "print(s)"
   ]
  },
  {
   "cell_type": "code",
   "execution_count": 14,
   "metadata": {},
   "outputs": [
    {
     "name": "stdout",
     "output_type": "stream",
     "text": [
      "[[0.791 0.131]\n",
      " [0.39  0.85 ]]\n"
     ]
    },
    {
     "data": {
      "text/plain": [
       "Sobol (DiscreteDistribution Object)\n",
       "    dimension       2^(1)\n",
       "    randomize       1\n",
       "    graycode        1\n",
       "    seed            [11 17]\n",
       "    mimics          StdUniform\n",
       "    dim0            1"
      ]
     },
     "execution_count": 14,
     "metadata": {},
     "output_type": "execute_result"
    }
   ],
   "source": [
    "# be careful, skipping dimensions does not skip seeds\n",
    "s.set_dim0(1)\n",
    "s.set_seed([11,17])\n",
    "print(s.gen_samples(2))\n",
    "s"
   ]
  },
  {
   "cell_type": "markdown",
   "metadata": {},
   "source": [
    "### Custom generating matricies"
   ]
  },
  {
   "cell_type": "code",
   "execution_count": 15,
   "metadata": {},
   "outputs": [
    {
     "name": "stdout",
     "output_type": "stream",
     "text": [
      "int64\n"
     ]
    },
    {
     "data": {
      "text/plain": [
       "array([[536870912, 805306368],\n",
       "       [536870912, 268435456]])"
      ]
     },
     "execution_count": 15,
     "metadata": {},
     "output_type": "execute_result"
    }
   ],
   "source": [
    "# a previously created generating matrix (not the default)\n",
    "z = load('../qmcpy/discrete_distribution/sobol/generating_matricies/gen_mat.51.30.msb.npy')\n",
    "# max dimension 51, max samples 2^30, most significant bit in top of column\n",
    "print(z.dtype)\n",
    "z[:2,:2]"
   ]
  },
  {
   "cell_type": "code",
   "execution_count": 20,
   "metadata": {},
   "outputs": [],
   "source": [
    "z_custom = z[:10,:] # say this is our custom generating matrix\n",
    "d_max,m_max = z_custom.shape\n",
    "f_path = 'my_sobol_mat.%d.%d.msb.npy'%(d_max,m_max)\n",
    "save(f_path, z_custom)# save it to a file with proper naming convention"
   ]
  },
  {
   "cell_type": "code",
   "execution_count": 21,
   "metadata": {},
   "outputs": [],
   "source": [
    "s = Sobol(3,z_path=f_path) # plug in the path\n",
    "s.gen_samples(4)\n",
    "os.remove(f_path)"
   ]
  },
  {
   "cell_type": "markdown",
   "metadata": {},
   "source": [
    "# Elementay intervals"
   ]
  },
  {
   "cell_type": "code",
   "execution_count": 18,
   "metadata": {},
   "outputs": [],
   "source": [
    "def plt_ei(x,ax,x_cuts,y_cuts):\n",
    "    ax.scatter(x[:,0],x[:,1],color='b',s=10)\n",
    "    for ix in arange(1,x_cuts,dtype=float): ax.axvline(x=ix/x_cuts,color='r')\n",
    "    for iy in arange(1,y_cuts,dtype=float): ax.axhline(y=iy/y_cuts,color='r')\n",
    "    ax.set_xlim([0,1])\n",
    "    ax.set_xticks([0,1])\n",
    "    ax.set_ylim([0,1])\n",
    "    ax.set_yticks([0,1])\n",
    "    ax.set_aspect(1)"
   ]
  },
  {
   "cell_type": "code",
   "execution_count": 19,
   "metadata": {},
   "outputs": [
    {
     "data": {
      "image/png": "[encoded data removed]",
      "text/plain": [
       "<Figure size 1080x360 with 3 Axes>"
      ]
     },
     "metadata": {
      "needs_background": "light"
     },
     "output_type": "display_data"
    }
   ],
   "source": [
    "# unrandomized \n",
    "fig,ax = pyplot.subplots(ncols=3,nrows=1,figsize=(15,5))\n",
    "s = Sobol(2,randomize=False)\n",
    "plt_ei(s.gen_samples(2**2,warn=False),ax[0],2,2)\n",
    "plt_ei(s.gen_samples(2**4,warn=False),ax[1],4,4)\n",
    "plt_ei(s.gen_samples(2**6,warn=False),ax[2],8,8)\n",
    "fig.suptitle(\"Unrandomized Sobol' points\");"
   ]
  },
  {
   "cell_type": "code",
   "execution_count": 20,
   "metadata": {},
   "outputs": [
    {
     "data": {
      "image/png": "[encoded data removed]",
      "text/plain": [
       "<Figure size 1080x360 with 3 Axes>"
      ]
     },
     "metadata": {
      "needs_background": "light"
     },
     "output_type": "display_data"
    }
   ],
   "source": [
    "fig,ax = pyplot.subplots(ncols=3,nrows=1,figsize=(15,5))\n",
    "s = Sobol(2,randomize='LMS')\n",
    "plt_ei(s.gen_samples(2**2,warn=False),ax[0],2,2)\n",
    "plt_ei(s.gen_samples(2**4,warn=False),ax[1],4,4)\n",
    "plt_ei(s.gen_samples(2**6,warn=False),ax[2],8,8)\n",
    "fig.suptitle(\"Sobol' points with linear matrix scramble (and digital shift)\");"
   ]
  },
  {
   "cell_type": "code",
   "execution_count": 21,
   "metadata": {},
   "outputs": [
    {
     "data": {
      "image/png": "[encoded data removed]",
      "text/plain": [
       "<Figure size 1080x360 with 3 Axes>"
      ]
     },
     "metadata": {
      "needs_background": "light"
     },
     "output_type": "display_data"
    }
   ],
   "source": [
    "fig,ax = pyplot.subplots(ncols=3,nrows=1,figsize=(15,5))\n",
    "s = Sobol(2,randomize='DS')\n",
    "plt_ei(s.gen_samples(2**2),ax[0],2,2)\n",
    "plt_ei(s.gen_samples(2**4),ax[1],4,4)\n",
    "plt_ei(s.gen_samples(2**6),ax[2],8,8)\n",
    "fig.suptitle(\"Sobol' points with digital shift\");"
   ]
  },
  {
   "cell_type": "code",
   "execution_count": 22,
   "metadata": {},
   "outputs": [
    {
     "data": {
      "image/png": "[encoded data removed]",
      "text/plain": [
       "<Figure size 1080x360 with 1 Axes>"
      ]
     },
     "metadata": {
      "needs_background": "light"
     },
     "output_type": "display_data"
    }
   ],
   "source": [
    "fig,ax = pyplot.subplots(figsize=(15,5))\n",
    "s = Sobol(2,randomize='LMS',dim0=50)\n",
    "plt_ei(s.gen_samples(2**4),ax,4,4)\n",
    "fig.suptitle(\"Sobol' points dimension 50 vs 51\");\n",
    "# nice properties do not necessary hold in higher dimensions"
   ]
  },
  {
   "cell_type": "code",
   "execution_count": null,
   "metadata": {},
   "outputs": [],
   "source": []
  },
  {
   "cell_type": "code",
   "execution_count": null,
   "metadata": {},
   "outputs": [],
   "source": []
  }
 ],
 "metadata": {
  "kernelspec": {
   "display_name": "Python 3",
   "language": "python",
   "name": "python3"
  },
  "language_info": {
   "codemirror_mode": {
    "name": "ipython",
    "version": 3
   },
   "file_extension": ".py",
   "mimetype": "text/x-python",
   "name": "python",
   "nbconvert_exporter": "python",
   "pygments_lexer": "ipython3",
   "version": "3.8.5"
  }
 },
 "nbformat": 4,
 "nbformat_minor": 4
}
