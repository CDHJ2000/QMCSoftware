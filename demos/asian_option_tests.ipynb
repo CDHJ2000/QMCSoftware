{
 "cells": [
  {
   "cell_type": "code",
   "execution_count": 1,
   "metadata": {},
   "outputs": [],
   "source": [
    "from qmcpy.discrete_distribution import Sobol\n",
    "from qmcpy.integrand._integrand import Integrand\n",
    "from qmcpy.true_measure import BrownianMotion\n",
    "from qmcpy.util import ParameterError\n",
    "from numpy import *\n",
    "import qmcpy as qp"
   ]
  },
  {
   "cell_type": "code",
   "execution_count": 59,
   "metadata": {},
   "outputs": [],
   "source": [
    "class AsianOptionNew(Integrand):\n",
    "    \n",
    "    def __init__(self, sampler, volatility=0.5, start_price=30., strike_price=35.,\n",
    "                 interest_rate=0.01, t_final=1, call_put='call', opt_type='amean'):\n",
    "        \"\"\"\n",
    "        Args:\n",
    "            sampler (DiscreteDistribution/TrueMeasure): A \n",
    "                discrete distribution from which to transform samples or a\n",
    "                true measure by which to compose a transform\n",
    "            volatility (float): sigma, the volatility of the asset\n",
    "            start_price (float): S(0), the asset value at t=0\n",
    "            strike_price (float): strike_price, the call/put offer\n",
    "            interest_rate (float): r, the annual interest rate\n",
    "            t_final (float): exercise time\n",
    "            dim: number of observations in t_final\n",
    "            call_put (string): 'call' or 'put'\n",
    "            opt_type (string): 'amean' or 'gmean'\n",
    "        \"\"\"\n",
    "        \n",
    "        \n",
    "        self.parameters = ['volatility', 'call_put', 'start_price', 'strike_price', 'interest_rate', 'opt_type']\n",
    "        self.t_final = t_final\n",
    "        self.true_measure = BrownianMotion(sampler,self.t_final)\n",
    "        self.volatility = float(volatility)\n",
    "        self.start_price = float(start_price)\n",
    "        self.strike_price = float(strike_price)\n",
    "        self.interest_rate = float(interest_rate)\n",
    "        self.call_put = call_put.lower()\n",
    "        if self.call_put not in ['call','put']:\n",
    "            raise ParameterError(\"call_put must be either 'call' or 'put'\")\n",
    "        self.opt_type = opt_type.lower()\n",
    "        if self.opt_type not in ['amean', 'gmean']:\n",
    "            raise ParameterError(\"opt_type must either 'amean' or 'gmean'\")\n",
    "        # single level problem\n",
    "        self.dimensions = self.true_measure.d\n",
    "        super(AsianOptionNew,self).__init__()    \n",
    "        \n",
    "        \n",
    "    def g(self, t):\n",
    "        \"\"\" See abstract method. \"\"\"\n",
    "        \n",
    "        dimension = float(self.dimensions)\n",
    "        self.stock_path= self.start_price * exp(\n",
    "            (self.interest_rate - self.volatility ** 2 / 2.) *\n",
    "            self.true_measure.time_vec + self.volatility * t)\n",
    "        for xx,yy in zip(*where(self.stock_path<0)): # if stock becomes <=0, 0 out rest of path\n",
    "            self.stock_path[xx,yy:] = 0\n",
    "            \n",
    "        if self.opt_type == 'amean':\n",
    "            y_raw = (self.stock_path.sum(1) + self.start_price / 2.0 - \\\n",
    "                   self.stock_path[:, -1] / 2.0) / float(dimension)\n",
    "        else:\n",
    "            y_raw = exp((log(self.stock_path).sum(1) + log(self.start_price) / 2.0 - \\\n",
    "                   log(self.stock_path[:, -1]) / 2.0) / float(dimension))                 \n",
    "\n",
    "        \n",
    "        if self.call_put == 'call':\n",
    "            y_raw = maximum(y_raw - self.strike_price, 0)\n",
    "        else: # put\n",
    "            y_raw = maximum(self.strike_price - y_raw, 0)  \n",
    "            \n",
    "        y = y_raw * exp(-self.interest_rate * self.t_final)\n",
    "        return y"
   ]
  },
  {
   "cell_type": "code",
   "execution_count": 60,
   "metadata": {},
   "outputs": [],
   "source": [
    "al = AsianOptionNew(sampler = qp.IIDStdUniform(dimension=6),\n",
    "                          volatility = 0.19654,\n",
    "                          call_put = 'call',\n",
    "                          start_price=537.36,\n",
    "                          strike_price =600,\n",
    "                          interest_rate=0.0050238,\n",
    "                          opt_type = 'amean',\n",
    "                          t_final = 1/2)"
   ]
  },
  {
   "cell_type": "code",
   "execution_count": 61,
   "metadata": {},
   "outputs": [],
   "source": [
    "sc = qp.CubMCG(al,abs_tol=.05)\n",
    "solution, data = sc.integrate()"
   ]
  },
  {
   "cell_type": "code",
   "execution_count": 62,
   "metadata": {},
   "outputs": [
    {
     "data": {
      "text/plain": [
       "1.881976965561897"
      ]
     },
     "execution_count": 62,
     "metadata": {},
     "output_type": "execute_result"
    }
   ],
   "source": [
    "solution"
   ]
  },
  {
   "cell_type": "code",
   "execution_count": 63,
   "metadata": {},
   "outputs": [
    {
     "data": {
      "text/plain": [
       "Solution: 1.8820         \n",
       "AsianOptionNew (Integrand Object)\n",
       "    volatility      0.197\n",
       "    call_put        call\n",
       "    start_price     537.360\n",
       "    strike_price    600\n",
       "    interest_rate   0.005\n",
       "    opt_type        amean\n",
       "IIDStdUniform (DiscreteDistribution Object)\n",
       "    d               6\n",
       "    seed            594737\n",
       "    mimics          StdUniform\n",
       "BrownianMotion (TrueMeasure Object)\n",
       "    time_vec        [0.083 0.167 0.25  0.333 0.417 0.5  ]\n",
       "    drift           0\n",
       "    mean            [0. 0. 0. 0. 0. 0.]\n",
       "    covariance      [[0.083 0.083 0.083 0.083 0.083 0.083]\n",
       "                    [0.083 0.167 0.167 0.167 0.167 0.167]\n",
       "                    [0.083 0.167 0.25  0.25  0.25  0.25 ]\n",
       "                    [0.083 0.167 0.25  0.333 0.333 0.333]\n",
       "                    [0.083 0.167 0.25  0.333 0.417 0.417]\n",
       "                    [0.083 0.167 0.25  0.333 0.417 0.5  ]]\n",
       "    decomp_type     pca\n",
       "CubMCG (StoppingCriterion Object)\n",
       "    inflate         1.200\n",
       "    alpha           0.010\n",
       "    abs_tol         0.050\n",
       "    rel_tol         0\n",
       "    n_init          2^(10)\n",
       "    n_max           10000000000\n",
       "MeanVarData (AccumulateData Object)\n",
       "    levels          1\n",
       "    solution        1.882\n",
       "    n               434985\n",
       "    n_total         436009\n",
       "    error_bound     0.050\n",
       "    confid_int      [1.832 1.932]\n",
       "    time_integrate  0.473"
      ]
     },
     "execution_count": 63,
     "metadata": {},
     "output_type": "execute_result"
    }
   ],
   "source": [
    "data"
   ]
  },
  {
   "cell_type": "code",
   "execution_count": 49,
   "metadata": {},
   "outputs": [],
   "source": [
    "agmo = AsianOptionNew(sampler = qp.IIDStdUniform(dimension=6),\n",
    "                          volatility=0.19654,\n",
    "                          call_put='call',\n",
    "                          start_price=537.36,\n",
    "                          strike_price=600,\n",
    "                          interest_rate=0.0050238,\n",
    "                          opt_type='gmean',\n",
    "                          t_final=1/2)"
   ]
  },
  {
   "cell_type": "code",
   "execution_count": 50,
   "metadata": {},
   "outputs": [
    {
     "data": {
      "text/plain": [
       "AsianOptionNew (Integrand Object)\n",
       "    volatility      0.197\n",
       "    call_put        call\n",
       "    start_price     537.360\n",
       "    strike_price    600\n",
       "    interest_rate   0.005\n",
       "    opt_type        gmean"
      ]
     },
     "execution_count": 50,
     "metadata": {},
     "output_type": "execute_result"
    }
   ],
   "source": [
    "agmo"
   ]
  },
  {
   "cell_type": "code",
   "execution_count": 51,
   "metadata": {},
   "outputs": [
    {
     "data": {
      "text/plain": [
       "1.7127821098462452"
      ]
     },
     "execution_count": 51,
     "metadata": {},
     "output_type": "execute_result"
    }
   ],
   "source": [
    "agmo_solution, agmo_data = qp.CubMCG(agmo,abs_tol=.05).integrate()\n",
    "agmo_solution"
   ]
  },
  {
   "cell_type": "code",
   "execution_count": 52,
   "metadata": {},
   "outputs": [
    {
     "data": {
      "text/plain": [
       "Solution: 1.7128         \n",
       "AsianOptionNew (Integrand Object)\n",
       "    volatility      0.197\n",
       "    call_put        call\n",
       "    start_price     537.360\n",
       "    strike_price    600\n",
       "    interest_rate   0.005\n",
       "    opt_type        gmean\n",
       "IIDStdUniform (DiscreteDistribution Object)\n",
       "    d               6\n",
       "    seed            716714\n",
       "    mimics          StdUniform\n",
       "BrownianMotion (TrueMeasure Object)\n",
       "    time_vec        [0.083 0.167 0.25  0.333 0.417 0.5  ]\n",
       "    drift           0\n",
       "    mean            [0. 0. 0. 0. 0. 0.]\n",
       "    covariance      [[0.083 0.083 0.083 0.083 0.083 0.083]\n",
       "                    [0.083 0.167 0.167 0.167 0.167 0.167]\n",
       "                    [0.083 0.167 0.25  0.25  0.25  0.25 ]\n",
       "                    [0.083 0.167 0.25  0.333 0.333 0.333]\n",
       "                    [0.083 0.167 0.25  0.333 0.417 0.417]\n",
       "                    [0.083 0.167 0.25  0.333 0.417 0.5  ]]\n",
       "    decomp_type     pca\n",
       "CubMCG (StoppingCriterion Object)\n",
       "    inflate         1.200\n",
       "    alpha           0.010\n",
       "    abs_tol         0.050\n",
       "    rel_tol         0\n",
       "    n_init          2^(10)\n",
       "    n_max           10000000000\n",
       "MeanVarData (AccumulateData Object)\n",
       "    levels          1\n",
       "    solution        1.713\n",
       "    n               351973\n",
       "    n_total         352997\n",
       "    error_bound     0.050\n",
       "    confid_int      [1.663 1.763]\n",
       "    time_integrate  0.426"
      ]
     },
     "execution_count": 52,
     "metadata": {},
     "output_type": "execute_result"
    }
   ],
   "source": [
    "agmo_data"
   ]
  },
  {
   "cell_type": "code",
   "execution_count": 67,
   "metadata": {},
   "outputs": [],
   "source": [
    "class LookbackOption(Integrand):\n",
    "    \n",
    "    def __init__(self, sampler, volatility=0.5, start_price=30.,\n",
    "                 interest_rate=0.01, t_final=1, call_put='call'):\n",
    "        \"\"\"\n",
    "        Args:\n",
    "            sampler (DiscreteDistribution/TrueMeasure): A \n",
    "                discrete distribution from which to transform samples or a\n",
    "                true measure by which to compose a transform\n",
    "            volatility (float): sigma, the volatility of the asset\n",
    "            start_price (float): S(0), the asset value at t=0\n",
    "            interest_rate (float): r, the annual interest rate\n",
    "            t_final (float): exercise time\n",
    "            call_put (string): 'call' or 'put'\n",
    "            dim: number of observations in t_final\n",
    "        \"\"\"\n",
    "        \n",
    "        \n",
    "        self.parameters = ['volatility', 'call_put', 'start_price', 'interest_rate']\n",
    "        self.t_final = t_final\n",
    "        self.true_measure = BrownianMotion(sampler,self.t_final)\n",
    "        self.volatility = float(volatility)\n",
    "        self.start_price = float(start_price)\n",
    "        self.interest_rate = float(interest_rate)\n",
    "        self.call_put = call_put.lower()\n",
    "        if self.call_put not in ['call','put']:\n",
    "            raise ParameterError(\"call_put must be either 'call' or 'put'\")\n",
    "       # single level problem\n",
    "        self.dimensions = self.true_measure.d\n",
    "        super(LookbackOption,self).__init__()    \n",
    "        \n",
    "        \n",
    "    def g(self, t):\n",
    "        \"\"\" See abstract method. \"\"\"\n",
    "        \n",
    "        dimension = float(self.dimensions)\n",
    "        self.stock_path= self.start_price * exp(\n",
    "            (self.interest_rate - self.volatility ** 2 / 2.) *\n",
    "            self.true_measure.time_vec + self.volatility * t)\n",
    "        for xx,yy in zip(*where(self.stock_path<0)): # if stock becomes <=0, 0 out rest of path\n",
    "            self.stock_path[xx,yy:] = 0\n",
    "            \n",
    "        if self.call_put == 'put':\n",
    "            y_raw = maximum(maximum(self.stock_path.max(1),self.start_price) - self.stock_path[:,-1],0)\n",
    "        else:\n",
    "            y_raw = maximum(self.stock_path[:,-1]-minimum(self.stock_path.min(1),self.start_price),0) \n",
    "\n",
    "            \n",
    "        y = y_raw * exp(-self.interest_rate * self.t_final)\n",
    "        return y"
   ]
  },
  {
   "cell_type": "code",
   "execution_count": 68,
   "metadata": {},
   "outputs": [],
   "source": [
    "lb = LookbackOption(sampler = qp.IIDStdUniform(dimension=6),\n",
    "                          volatility=0.5,\n",
    "                          call_put='call',\n",
    "                          start_price=120,\n",
    "                          interest_rate=0.02,\n",
    "                          t_final = 1/2)"
   ]
  },
  {
   "cell_type": "code",
   "execution_count": 69,
   "metadata": {},
   "outputs": [
    {
     "data": {
      "text/plain": [
       "24.04790065156598"
      ]
     },
     "execution_count": 69,
     "metadata": {},
     "output_type": "execute_result"
    }
   ],
   "source": [
    "sc = qp.CubMCG(lb,abs_tol=.05)\n",
    "solution, data = sc.integrate()\n",
    "solution"
   ]
  },
  {
   "cell_type": "code",
   "execution_count": 70,
   "metadata": {},
   "outputs": [
    {
     "data": {
      "text/plain": [
       "24.04790065156598"
      ]
     },
     "execution_count": 70,
     "metadata": {},
     "output_type": "execute_result"
    }
   ],
   "source": [
    "solution"
   ]
  },
  {
   "cell_type": "code",
   "execution_count": 71,
   "metadata": {},
   "outputs": [
    {
     "data": {
      "text/plain": [
       "Solution: 24.0479        \n",
       "LookbackOption (Integrand Object)\n",
       "    volatility      2^(-1)\n",
       "    call_put        call\n",
       "    start_price     120\n",
       "    interest_rate   0.020\n",
       "IIDStdUniform (DiscreteDistribution Object)\n",
       "    d               6\n",
       "    seed            748703\n",
       "    mimics          StdUniform\n",
       "BrownianMotion (TrueMeasure Object)\n",
       "    time_vec        [0.083 0.167 0.25  0.333 0.417 0.5  ]\n",
       "    drift           0\n",
       "    mean            [0. 0. 0. 0. 0. 0.]\n",
       "    covariance      [[0.083 0.083 0.083 0.083 0.083 0.083]\n",
       "                    [0.083 0.167 0.167 0.167 0.167 0.167]\n",
       "                    [0.083 0.167 0.25  0.25  0.25  0.25 ]\n",
       "                    [0.083 0.167 0.25  0.333 0.333 0.333]\n",
       "                    [0.083 0.167 0.25  0.333 0.417 0.417]\n",
       "                    [0.083 0.167 0.25  0.333 0.417 0.5  ]]\n",
       "    decomp_type     pca\n",
       "CubMCG (StoppingCriterion Object)\n",
       "    inflate         1.200\n",
       "    alpha           0.010\n",
       "    abs_tol         0.050\n",
       "    rel_tol         0\n",
       "    n_init          2^(10)\n",
       "    n_max           10000000000\n",
       "MeanVarData (AccumulateData Object)\n",
       "    levels          1\n",
       "    solution        24.048\n",
       "    n               5234865\n",
       "    n_total         5235889\n",
       "    error_bound     0.050\n",
       "    confid_int      [23.998 24.098]\n",
       "    time_integrate  9.016"
      ]
     },
     "execution_count": 71,
     "metadata": {},
     "output_type": "execute_result"
    }
   ],
   "source": [
    "data"
   ]
  },
  {
   "cell_type": "code",
   "execution_count": 72,
   "metadata": {},
   "outputs": [],
   "source": [
    "lb = LookbackOption(sampler = qp.IIDStdUniform(dimension=6),\n",
    "                          volatility=0.5,\n",
    "                          call_put='put',\n",
    "                          start_price=120,\n",
    "                          interest_rate=0.02,\n",
    "                          t_final = 1/2)"
   ]
  },
  {
   "cell_type": "code",
   "execution_count": 73,
   "metadata": {},
   "outputs": [
    {
     "data": {
      "text/plain": [
       "25.97022135846145"
      ]
     },
     "execution_count": 73,
     "metadata": {},
     "output_type": "execute_result"
    }
   ],
   "source": [
    "sc = qp.CubMCG(lb,abs_tol=.05)\n",
    "solution, data = sc.integrate()\n",
    "solution"
   ]
  },
  {
   "cell_type": "code",
   "execution_count": 74,
   "metadata": {},
   "outputs": [
    {
     "data": {
      "text/plain": [
       "Solution: 25.9702        \n",
       "LookbackOption (Integrand Object)\n",
       "    volatility      2^(-1)\n",
       "    call_put        put\n",
       "    start_price     120\n",
       "    interest_rate   0.020\n",
       "IIDStdUniform (DiscreteDistribution Object)\n",
       "    d               6\n",
       "    seed            705483\n",
       "    mimics          StdUniform\n",
       "BrownianMotion (TrueMeasure Object)\n",
       "    time_vec        [0.083 0.167 0.25  0.333 0.417 0.5  ]\n",
       "    drift           0\n",
       "    mean            [0. 0. 0. 0. 0. 0.]\n",
       "    covariance      [[0.083 0.083 0.083 0.083 0.083 0.083]\n",
       "                    [0.083 0.167 0.167 0.167 0.167 0.167]\n",
       "                    [0.083 0.167 0.25  0.25  0.25  0.25 ]\n",
       "                    [0.083 0.167 0.25  0.333 0.333 0.333]\n",
       "                    [0.083 0.167 0.25  0.333 0.417 0.417]\n",
       "                    [0.083 0.167 0.25  0.333 0.417 0.5  ]]\n",
       "    decomp_type     pca\n",
       "CubMCG (StoppingCriterion Object)\n",
       "    inflate         1.200\n",
       "    alpha           0.010\n",
       "    abs_tol         0.050\n",
       "    rel_tol         0\n",
       "    n_init          2^(10)\n",
       "    n_max           10000000000\n",
       "MeanVarData (AccumulateData Object)\n",
       "    levels          1\n",
       "    solution        25.970\n",
       "    n               2080189\n",
       "    n_total         2081213\n",
       "    error_bound     0.050\n",
       "    confid_int      [25.92 26.02]\n",
       "    time_integrate  2.349"
      ]
     },
     "execution_count": 74,
     "metadata": {},
     "output_type": "execute_result"
    }
   ],
   "source": [
    "data"
   ]
  },
  {
   "cell_type": "code",
   "execution_count": 149,
   "metadata": {},
   "outputs": [],
   "source": [
    "class BarrierOption(Integrand):\n",
    "    \n",
    "    def __init__(self, sampler, volatility=0.5, start_price=30., barrier_price = 35., strike_price = 30.,\n",
    "                 interest_rate=0.01, t_final=1, call_put='call',barrier_type = 'upin'):\n",
    "        \"\"\"\n",
    "        Args:\n",
    "            sampler (DiscreteDistribution/TrueMeasure): A \n",
    "                discrete distribution from which to transform samples or a\n",
    "                true measure by which to compose a transform\n",
    "            volatility (float): sigma, the volatility of the asset\n",
    "            start_price (float): S(0), the asset value at t=0\n",
    "            strike_price (float): strike_price, the call/put offer\n",
    "            interest_rate (float): r, the annual interest rate\n",
    "            t_final (float): exercise time\n",
    "            dim: number of observations in t_final\n",
    "            call_put (string): 'call' or 'put'\n",
    "            barrier_type (string): 'upin', 'upout', 'downin' or 'downout'\n",
    "        \"\"\"\n",
    "        \n",
    "        \n",
    "        self.parameters = ['volatility', 'call_put', 'start_price', 'interest_rate',\n",
    "                           'strike_price', 'barrier_price', 'barrier_type']\n",
    "        self.t_final = t_final\n",
    "        self.true_measure = BrownianMotion(sampler,self.t_final)\n",
    "        self.volatility = float(volatility)\n",
    "        self.start_price = float(start_price)\n",
    "        self.strike_price = float(strike_price)\n",
    "        self.barrier_price = float(barrier_price)\n",
    "        self.interest_rate = float(interest_rate)\n",
    "        self.call_put = call_put.lower()\n",
    "        if self.call_put not in ['call','put']:\n",
    "            raise ParameterError(\"call_put must be either 'call' or 'put'\")\n",
    "       # single level problem\n",
    "        self.barrier_type = barrier_type.lower()\n",
    "        if self.barrier_type not in ['upin','upout','downin','downout']:\n",
    "            raise ParameterError(\"barrier_type must be in 'upin', 'upout', 'downin', 'downout'\")\n",
    "        self.dimensions = self.true_measure.d\n",
    "        super(BarrierOption,self).__init__()    \n",
    "        \n",
    "        \n",
    "    def g(self, t):\n",
    "        \"\"\" See abstract method. \"\"\"\n",
    "        \n",
    "        dimension = float(self.dimensions)\n",
    "        self.stock_path= self.start_price * exp(\n",
    "            (self.interest_rate - self.volatility ** 2 / 2.) *\n",
    "            self.true_measure.time_vec + self.volatility * t)\n",
    "        for xx,yy in zip(*where(self.stock_path<0)): # if stock becomes <=0, 0 out rest of path\n",
    "            self.stock_path[xx,yy:] = 0\n",
    "        \n",
    "        yraw = zeros(self.stock_path.shape[0])\n",
    "        if self.barrier_type == 'upin' and self.start_price <  self.barrier_price:\n",
    "            temp = self.stock_path.max(1) > self.barrier_price      \n",
    "        elif self.barrier_type == 'downin'and self.start_price > self.barrier_price:\n",
    "            temp = self.stock_path.min(1) < self.barrier_price\n",
    "        elif self.barrier_type == 'upout' and self.start_price < self.barrier_price:\n",
    "            temp = self.stock_path.max(1) < self.barrier_price\n",
    "        elif self.barrier_type == 'downout' and self.start_price > self.barrier_price:\n",
    "            temp = self.stock_path.min(1) > self.barrier_price\n",
    "        yraw[temp] = self.stock_path[temp, -1]\n",
    "        \n",
    "        if self.call_put == 'call':          \n",
    "            yraw = maximum(yraw - self.strike_price, 0)\n",
    "        else:\n",
    "            yraw = maximum(self.strike_price - yraw, 0)          \n",
    "        \n",
    "        y = yraw * exp(-self.interest_rate * self.t_final)\n",
    "        return y"
   ]
  },
  {
   "cell_type": "code",
   "execution_count": 153,
   "metadata": {},
   "outputs": [],
   "source": [
    "upin_option = BarrierOption(sampler = qp.IIDStdUniform(dimension=13),\n",
    "                          volatility=0.5,\n",
    "                          call_put='call',\n",
    "                          start_price=120,\n",
    "                          strike_price=120,\n",
    "                          interest_rate=0.02,\n",
    "                          barrier_type='upout',\n",
    "                          barrier_price=150,\n",
    "                          t_final=1/4)"
   ]
  },
  {
   "cell_type": "code",
   "execution_count": 154,
   "metadata": {},
   "outputs": [
    {
     "data": {
      "text/plain": [
       "BarrierOption (Integrand Object)\n",
       "    volatility      2^(-1)\n",
       "    call_put        call\n",
       "    start_price     120\n",
       "    interest_rate   0.020\n",
       "    strike_price    120\n",
       "    barrier_price   150\n",
       "    barrier_type    upout"
      ]
     },
     "execution_count": 154,
     "metadata": {},
     "output_type": "execute_result"
    }
   ],
   "source": [
    "upin_option"
   ]
  },
  {
   "cell_type": "code",
   "execution_count": 155,
   "metadata": {},
   "outputs": [
    {
     "data": {
      "text/plain": [
       "2.408599620928891"
      ]
     },
     "execution_count": 155,
     "metadata": {},
     "output_type": "execute_result"
    }
   ],
   "source": [
    "sc = qp.CubMCG(upin_option,abs_tol=.05)\n",
    "solution, data = sc.integrate()\n",
    "solution"
   ]
  },
  {
   "cell_type": "code",
   "execution_count": 139,
   "metadata": {},
   "outputs": [
    {
     "data": {
      "text/plain": [
       "array([[1.118, 4.292, 5.584],\n",
       "       [0.898, 1.676, 2.822],\n",
       "       [2.364, 3.155, 4.691],\n",
       "       [0.877, 2.404, 3.311]])"
      ]
     },
     "execution_count": 139,
     "metadata": {},
     "output_type": "execute_result"
    }
   ],
   "source": [
    "bm = BrownianMotion(Sobol(3),t_final=2,drift=2)\n",
    "samp = bm.gen_samples(4)\n",
    "samp"
   ]
  },
  {
   "cell_type": "code",
   "execution_count": 123,
   "metadata": {},
   "outputs": [],
   "source": [
    "where = samp.max(1)>3"
   ]
  },
  {
   "cell_type": "code",
   "execution_count": 124,
   "metadata": {},
   "outputs": [
    {
     "data": {
      "text/plain": [
       "array([ True,  True,  True, False])"
      ]
     },
     "execution_count": 124,
     "metadata": {},
     "output_type": "execute_result"
    }
   ],
   "source": [
    "where"
   ]
  },
  {
   "cell_type": "code",
   "execution_count": 125,
   "metadata": {},
   "outputs": [],
   "source": [
    "yraw = zeros(samp.shape[1])\n",
    "yraw[where] = samp[where,-1]"
   ]
  },
  {
   "cell_type": "code",
   "execution_count": 126,
   "metadata": {},
   "outputs": [
    {
     "data": {
      "text/plain": [
       "array([6.795, 4.084, 5.2  , 0.   ])"
      ]
     },
     "execution_count": 126,
     "metadata": {},
     "output_type": "execute_result"
    }
   ],
   "source": [
    "yraw"
   ]
  },
  {
   "cell_type": "code",
   "execution_count": 140,
   "metadata": {},
   "outputs": [
    {
     "data": {
      "text/plain": [
       "3"
      ]
     },
     "execution_count": 140,
     "metadata": {},
     "output_type": "execute_result"
    }
   ],
   "source": [
    "samp.shape[1]"
   ]
  },
  {
   "cell_type": "code",
   "execution_count": null,
   "metadata": {},
   "outputs": [],
   "source": []
  }
 ],
 "metadata": {
  "kernelspec": {
   "display_name": "Python 3",
   "language": "python",
   "name": "python3"
  },
  "language_info": {
   "codemirror_mode": {
    "name": "ipython",
    "version": 3
   },
   "file_extension": ".py",
   "mimetype": "text/x-python",
   "name": "python",
   "nbconvert_exporter": "python",
   "pygments_lexer": "ipython3",
   "version": "3.7.0"
  }
 },
 "nbformat": 4,
 "nbformat_minor": 4
}
