{
 "cells": [
  {
   "cell_type": "code",
   "execution_count": 33,
   "metadata": {},
   "outputs": [],
   "source": [
    "import matplotlib.pyplot as plt\n",
    "import numpy as np\n",
    "import qmcpy as qp"
   ]
  },
  {
   "cell_type": "code",
   "execution_count": 39,
   "metadata": {},
   "outputs": [],
   "source": [
    "eo = qp.EuropeanOption(sampler = qp.IIDStdUniform(dimension=4),\n",
    "                          volatility = 0.19654,\n",
    "                          call_put = 'call',\n",
    "                          start_price=537.36,\n",
    "                          strike_price =600,\n",
    "                          interest_rate=0.0050238,\n",
    "                          t_final = 1/2)"
   ]
  },
  {
   "cell_type": "code",
   "execution_count": 40,
   "metadata": {},
   "outputs": [
    {
     "data": {
      "text/plain": [
       "EuropeanOption (Integrand Object)\n",
       "    volatility      0.197\n",
       "    call_put        call\n",
       "    start_price     537.360\n",
       "    strike_price    600\n",
       "    interest_rate   0.005"
      ]
     },
     "execution_count": 40,
     "metadata": {},
     "output_type": "execute_result"
    }
   ],
   "source": [
    "eo"
   ]
  },
  {
   "cell_type": "code",
   "execution_count": 42,
   "metadata": {},
   "outputs": [],
   "source": [
    "eo_price = qp.CubMCCLT(eo,abs_tol=.05)"
   ]
  },
  {
   "cell_type": "code",
   "execution_count": 43,
   "metadata": {},
   "outputs": [],
   "source": [
    "sol_eo,data_eo = eo_price.integrate()"
   ]
  },
  {
   "cell_type": "code",
   "execution_count": 47,
   "metadata": {},
   "outputs": [
    {
     "data": {
      "text/plain": [
       "9.84897231477516"
      ]
     },
     "execution_count": 47,
     "metadata": {},
     "output_type": "execute_result"
    }
   ],
   "source": [
    "sol_eo"
   ]
  },
  {
   "cell_type": "code",
   "execution_count": 48,
   "metadata": {},
   "outputs": [
    {
     "data": {
      "text/plain": [
       "Solution: 9.8490         \n",
       "EuropeanOption (Integrand Object)\n",
       "    volatility      0.197\n",
       "    call_put        call\n",
       "    start_price     537.360\n",
       "    strike_price    600\n",
       "    interest_rate   0.005\n",
       "IIDStdUniform (DiscreteDistribution Object)\n",
       "    d               2^(2)\n",
       "    seed            520616\n",
       "    mimics          StdUniform\n",
       "BrownianMotion (TrueMeasure Object)\n",
       "    time_vec        [0.125 0.25  0.375 0.5  ]\n",
       "    drift           0\n",
       "    mean            [0. 0. 0. 0.]\n",
       "    covariance      [[0.125 0.125 0.125 0.125]\n",
       "                    [0.125 0.25  0.25  0.25 ]\n",
       "                    [0.125 0.25  0.375 0.375]\n",
       "                    [0.125 0.25  0.375 0.5  ]]\n",
       "    decomp_type     pca\n",
       "CubMCCLT (StoppingCriterion Object)\n",
       "    inflate         1.200\n",
       "    alpha           0.010\n",
       "    abs_tol         0.050\n",
       "    rel_tol         0\n",
       "    n_init          2^(10)\n",
       "    n_max           10000000000\n",
       "MeanVarData (AccumulateData Object)\n",
       "    levels          1\n",
       "    solution        9.849\n",
       "    n               2875461\n",
       "    n_total         2876485\n",
       "    error_bound     0.051\n",
       "    confid_int      [9.798 9.9  ]\n",
       "    time_integrate  2.065"
      ]
     },
     "execution_count": 48,
     "metadata": {},
     "output_type": "execute_result"
    }
   ],
   "source": [
    "data_eo"
   ]
  },
  {
   "cell_type": "code",
   "execution_count": 34,
   "metadata": {},
   "outputs": [],
   "source": [
    "al = qp.AsianOption(sampler = qp.IIDStdUniform(dimension=4),\n",
    "                          volatility = 0.19654,\n",
    "                          call_put = 'call',\n",
    "                          start_price=537.36,\n",
    "                          strike_price =600,\n",
    "                          interest_rate=0.0050238,\n",
    "                          t_final = 1/2)"
   ]
  },
  {
   "cell_type": "code",
   "execution_count": 35,
   "metadata": {},
   "outputs": [
    {
     "data": {
      "text/plain": [
       "AsianOption (Integrand Object)\n",
       "    volatility      0.197\n",
       "    call_put        call\n",
       "    start_price     537.360\n",
       "    strike_price    600\n",
       "    interest_rate   0.005\n",
       "    mean_type       arithmetic\n",
       "    dimensions      2^(2)\n",
       "    dim_fracs       0"
      ]
     },
     "execution_count": 35,
     "metadata": {},
     "output_type": "execute_result"
    }
   ],
   "source": [
    "al"
   ]
  },
  {
   "cell_type": "code",
   "execution_count": 36,
   "metadata": {},
   "outputs": [
    {
     "data": {
      "text/plain": [
       "1.8631335075417292"
      ]
     },
     "execution_count": 36,
     "metadata": {},
     "output_type": "execute_result"
    }
   ],
   "source": [
    "sc = qp.CubMCCLT(al,abs_tol=.05)\n",
    "solution,data = sc.integrate()\n",
    "solution"
   ]
  },
  {
   "cell_type": "code",
   "execution_count": 37,
   "metadata": {},
   "outputs": [
    {
     "data": {
      "text/plain": [
       "Solution: 1.8631         \n",
       "AsianOption (Integrand Object)\n",
       "    volatility      0.197\n",
       "    call_put        call\n",
       "    start_price     537.360\n",
       "    strike_price    600\n",
       "    interest_rate   0.005\n",
       "    mean_type       arithmetic\n",
       "    dimensions      2^(2)\n",
       "    dim_fracs       0\n",
       "IIDStdUniform (DiscreteDistribution Object)\n",
       "    d               2^(2)\n",
       "    seed            904467\n",
       "    mimics          StdUniform\n",
       "BrownianMotion (TrueMeasure Object)\n",
       "    time_vec        [0.125 0.25  0.375 0.5  ]\n",
       "    drift           0\n",
       "    mean            [0. 0. 0. 0.]\n",
       "    covariance      [[0.125 0.125 0.125 0.125]\n",
       "                    [0.125 0.25  0.25  0.25 ]\n",
       "                    [0.125 0.25  0.375 0.375]\n",
       "                    [0.125 0.25  0.375 0.5  ]]\n",
       "    decomp_type     pca\n",
       "CubMCCLT (StoppingCriterion Object)\n",
       "    inflate         1.200\n",
       "    alpha           0.010\n",
       "    abs_tol         0.050\n",
       "    rel_tol         0\n",
       "    n_init          2^(10)\n",
       "    n_max           10000000000\n",
       "MeanVarData (AccumulateData Object)\n",
       "    levels          1\n",
       "    solution        1.863\n",
       "    n               262631\n",
       "    n_total         263655\n",
       "    error_bound     0.052\n",
       "    confid_int      [1.811 1.915]\n",
       "    time_integrate  0.185"
      ]
     },
     "execution_count": 37,
     "metadata": {},
     "output_type": "execute_result"
    }
   ],
   "source": [
    "data"
   ]
  },
  {
   "cell_type": "code",
   "execution_count": 23,
   "metadata": {},
   "outputs": [
    {
     "data": {
      "text/plain": [
       "1.7880316385146988"
      ]
     },
     "execution_count": 23,
     "metadata": {},
     "output_type": "execute_result"
    }
   ],
   "source": [
    "x = al.discrete_distrib.gen_samples(2**10)\n",
    "y = al.f(x)\n",
    "y.mean()"
   ]
  },
  {
   "cell_type": "code",
   "execution_count": 44,
   "metadata": {},
   "outputs": [
    {
     "ename": "SyntaxError",
     "evalue": "invalid syntax (<ipython-input-44-60848794ce6c>, line 1)",
     "output_type": "error",
     "traceback": [
      "\u001b[0;36m  File \u001b[0;32m\"<ipython-input-44-60848794ce6c>\"\u001b[0;36m, line \u001b[0;32m1\u001b[0m\n\u001b[0;31m    al._get_discounted_payoffs(,,1)\u001b[0m\n\u001b[0m                               ^\u001b[0m\n\u001b[0;31mSyntaxError\u001b[0m\u001b[0;31m:\u001b[0m invalid syntax\n"
     ]
    }
   ],
   "source": []
  },
  {
   "cell_type": "code",
   "execution_count": 41,
   "metadata": {
    "scrolled": true
   },
   "outputs": [
    {
     "data": {
      "text/plain": [
       "9.211452976234058"
      ]
     },
     "execution_count": 41,
     "metadata": {},
     "output_type": "execute_result"
    }
   ],
   "source": [
    "eo.get_exact_value()"
   ]
  },
  {
   "cell_type": "code",
   "execution_count": 48,
   "metadata": {},
   "outputs": [
    {
     "data": {
      "text/plain": [
       "Solution: 9.9034         \n",
       "EuropeanOption (Integrand Object)\n",
       "    volatility      0.197\n",
       "    call_put        call\n",
       "    start_price     537.360\n",
       "    strike_price    600\n",
       "    interest_rate   0.005\n",
       "IIDStdUniform (DiscreteDistribution Object)\n",
       "    d               1\n",
       "    seed            91945\n",
       "    mimics          StdUniform\n",
       "BrownianMotion (TrueMeasure Object)\n",
       "    time_vec        2^(-1)\n",
       "    drift           0\n",
       "    mean            0\n",
       "    covariance      2^(-1)\n",
       "    decomp_type     pca\n",
       "CubMCG (StoppingCriterion Object)\n",
       "    inflate         1.200\n",
       "    alpha           0.010\n",
       "    abs_tol         0.050\n",
       "    rel_tol         0\n",
       "    n_init          2^(10)\n",
       "    n_max           10000000000\n",
       "MeanVarData (AccumulateData Object)\n",
       "    levels          1\n",
       "    solution        9.903\n",
       "    n               3743798\n",
       "    n_total         3744822\n",
       "    error_bound     0.050\n",
       "    confid_int      [9.853 9.953]\n",
       "    time_integrate  1.413"
      ]
     },
     "execution_count": 48,
     "metadata": {},
     "output_type": "execute_result"
    }
   ],
   "source": [
    "data"
   ]
  }
 ],
 "metadata": {
  "kernelspec": {
   "display_name": "Python 3",
   "language": "python",
   "name": "python3"
  },
  "language_info": {
   "codemirror_mode": {
    "name": "ipython",
    "version": 3
   },
   "file_extension": ".py",
   "mimetype": "text/x-python",
   "name": "python",
   "nbconvert_exporter": "python",
   "pygments_lexer": "ipython3",
   "version": "3.7.0"
  }
 },
 "nbformat": 4,
 "nbformat_minor": 4
}
