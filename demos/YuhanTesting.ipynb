{
 "cells": [
  {
   "cell_type": "code",
   "execution_count": 1,
   "metadata": {},
   "outputs": [],
   "source": [
    "import matplotlib.pyplot as plt\n",
    "import numpy as np\n",
    "import qmcpy as qp"
   ]
  },
  {
   "cell_type": "code",
   "execution_count": 2,
   "metadata": {},
   "outputs": [],
   "source": [
    "eo = qp.EuropeanOption(qp.Sobol(4,seed=7),call_put='put')"
   ]
  },
  {
   "cell_type": "code",
   "execution_count": 3,
   "metadata": {},
   "outputs": [
    {
     "data": {
      "text/plain": [
       "EuropeanOption (Integrand Object)\n",
       "    volatility      2^(-1)\n",
       "    call_put        put\n",
       "    start_price     30\n",
       "    strike_price    35\n",
       "    interest_rate   0"
      ]
     },
     "execution_count": 3,
     "metadata": {},
     "output_type": "execute_result"
    }
   ],
   "source": [
    "eo"
   ]
  },
  {
   "cell_type": "code",
   "execution_count": 4,
   "metadata": {},
   "outputs": [],
   "source": [
    "neweo = qp.EuropeanOption(sampler = qp.IIDStdUniform(dimension=1),\n",
    "                          volatility = 0.19654,\n",
    "                          call_put = 'call',\n",
    "                          start_price=537.36,\n",
    "                          strike_price =600,\n",
    "                          interest_rate=0.0050238,\n",
    "                          t_final = 1/2)"
   ]
  },
  {
   "cell_type": "code",
   "execution_count": 5,
   "metadata": {},
   "outputs": [
    {
     "data": {
      "text/plain": [
       "EuropeanOption (Integrand Object)\n",
       "    volatility      0.197\n",
       "    call_put        call\n",
       "    start_price     537.360\n",
       "    strike_price    600\n",
       "    interest_rate   0.005"
      ]
     },
     "execution_count": 5,
     "metadata": {},
     "output_type": "execute_result"
    }
   ],
   "source": [
    "neweo"
   ]
  },
  {
   "cell_type": "code",
   "execution_count": 49,
   "metadata": {},
   "outputs": [],
   "source": [
    "sc = qp.CubMCCLT(neweo,abs_tol=.05)"
   ]
  },
  {
   "cell_type": "code",
   "execution_count": 50,
   "metadata": {},
   "outputs": [],
   "source": [
    "solution,data = sc.integrate()"
   ]
  },
  {
   "cell_type": "code",
   "execution_count": 51,
   "metadata": {},
   "outputs": [
    {
     "data": {
      "text/plain": [
       "9.871313074827667"
      ]
     },
     "execution_count": 51,
     "metadata": {},
     "output_type": "execute_result"
    }
   ],
   "source": [
    "solution"
   ]
  },
  {
   "cell_type": "code",
   "execution_count": 52,
   "metadata": {},
   "outputs": [
    {
     "data": {
      "text/plain": [
       "Solution: 9.8713         \n",
       "EuropeanOption (Integrand Object)\n",
       "    volatility      0.197\n",
       "    call_put        call\n",
       "    start_price     537.360\n",
       "    strike_price    600\n",
       "    interest_rate   0.005\n",
       "IIDStdUniform (DiscreteDistribution Object)\n",
       "    d               1\n",
       "    seed            91945\n",
       "    mimics          StdUniform\n",
       "BrownianMotion (TrueMeasure Object)\n",
       "    time_vec        2^(-1)\n",
       "    drift           0\n",
       "    mean            0\n",
       "    covariance      2^(-1)\n",
       "    decomp_type     pca\n",
       "CubMCCLT (StoppingCriterion Object)\n",
       "    inflate         1.200\n",
       "    alpha           0.010\n",
       "    abs_tol         0.050\n",
       "    rel_tol         0\n",
       "    n_init          2^(10)\n",
       "    n_max           10000000000\n",
       "MeanVarData (AccumulateData Object)\n",
       "    levels          1\n",
       "    solution        9.871\n",
       "    n               2746802\n",
       "    n_total         2747826\n",
       "    error_bound     0.052\n",
       "    confid_int      [9.819 9.923]\n",
       "    time_integrate  0.781"
      ]
     },
     "execution_count": 52,
     "metadata": {},
     "output_type": "execute_result"
    }
   ],
   "source": [
    "data"
   ]
  },
  {
   "cell_type": "code",
   "execution_count": 46,
   "metadata": {},
   "outputs": [],
   "source": [
    "sc = qp.CubMCG(neweo,abs_tol=.05)"
   ]
  },
  {
   "cell_type": "code",
   "execution_count": 47,
   "metadata": {},
   "outputs": [],
   "source": [
    "solution,data = sc.integrate()"
   ]
  },
  {
   "cell_type": "code",
   "execution_count": 12,
   "metadata": {},
   "outputs": [
    {
     "data": {
      "text/plain": [
       "9.88348849394159"
      ]
     },
     "execution_count": 12,
     "metadata": {},
     "output_type": "execute_result"
    }
   ],
   "source": [
    "solution"
   ]
  },
  {
   "cell_type": "code",
   "execution_count": 34,
   "metadata": {},
   "outputs": [],
   "source": [
    "al = qp.AsianOption(sampler = qp.IIDStdUniform(dimension=1),\n",
    "                          volatility = 0.19654,\n",
    "                          call_put = 'call',\n",
    "                          start_price=537.36,\n",
    "                          strike_price =600,\n",
    "                          interest_rate=0.0050238,\n",
    "                          mean_type = 'arithmetic',\n",
    "                          t_final = 1/2)"
   ]
  },
  {
   "cell_type": "code",
   "execution_count": 35,
   "metadata": {},
   "outputs": [
    {
     "data": {
      "text/plain": [
       "AsianOption (Integrand Object)\n",
       "    volatility      0.197\n",
       "    call_put        call\n",
       "    start_price     537.360\n",
       "    strike_price    600\n",
       "    interest_rate   0.005\n",
       "    mean_type       arithmetic\n",
       "    dimensions      1\n",
       "    dim_fracs       0"
      ]
     },
     "execution_count": 35,
     "metadata": {},
     "output_type": "execute_result"
    }
   ],
   "source": [
    "al"
   ]
  },
  {
   "cell_type": "code",
   "execution_count": 36,
   "metadata": {},
   "outputs": [
    {
     "data": {
      "text/plain": [
       "1.239547556885026"
      ]
     },
     "execution_count": 36,
     "metadata": {},
     "output_type": "execute_result"
    }
   ],
   "source": [
    "sc = qp.CubMCCLT(al,abs_tol=.05)\n",
    "solution,data = sc.integrate()\n",
    "solution"
   ]
  },
  {
   "cell_type": "code",
   "execution_count": 32,
   "metadata": {},
   "outputs": [
    {
     "data": {
      "text/plain": [
       "1.7390311475717521"
      ]
     },
     "execution_count": 32,
     "metadata": {},
     "output_type": "execute_result"
    }
   ],
   "source": [
    "sc = qp.CubMCG(al,abs_tol=.05)\n",
    "solution,data = sc.integrate()\n",
    "solution"
   ]
  },
  {
   "cell_type": "code",
   "execution_count": 44,
   "metadata": {},
   "outputs": [
    {
     "ename": "SyntaxError",
     "evalue": "invalid syntax (<ipython-input-44-60848794ce6c>, line 1)",
     "output_type": "error",
     "traceback": [
      "\u001b[0;36m  File \u001b[0;32m\"<ipython-input-44-60848794ce6c>\"\u001b[0;36m, line \u001b[0;32m1\u001b[0m\n\u001b[0;31m    al._get_discounted_payoffs(,,1)\u001b[0m\n\u001b[0m                               ^\u001b[0m\n\u001b[0;31mSyntaxError\u001b[0m\u001b[0;31m:\u001b[0m invalid syntax\n"
     ]
    }
   ],
   "source": [
    "al._get_discounted_payoffs(,,1)"
   ]
  },
  {
   "cell_type": "code",
   "execution_count": 41,
   "metadata": {
    "scrolled": true
   },
   "outputs": [
    {
     "data": {
      "text/plain": [
       "9.211452976234058"
      ]
     },
     "execution_count": 41,
     "metadata": {},
     "output_type": "execute_result"
    }
   ],
   "source": [
    "eo.get_exact_value()"
   ]
  },
  {
   "cell_type": "code",
   "execution_count": 48,
   "metadata": {},
   "outputs": [
    {
     "data": {
      "text/plain": [
       "Solution: 9.9034         \n",
       "EuropeanOption (Integrand Object)\n",
       "    volatility      0.197\n",
       "    call_put        call\n",
       "    start_price     537.360\n",
       "    strike_price    600\n",
       "    interest_rate   0.005\n",
       "IIDStdUniform (DiscreteDistribution Object)\n",
       "    d               1\n",
       "    seed            91945\n",
       "    mimics          StdUniform\n",
       "BrownianMotion (TrueMeasure Object)\n",
       "    time_vec        2^(-1)\n",
       "    drift           0\n",
       "    mean            0\n",
       "    covariance      2^(-1)\n",
       "    decomp_type     pca\n",
       "CubMCG (StoppingCriterion Object)\n",
       "    inflate         1.200\n",
       "    alpha           0.010\n",
       "    abs_tol         0.050\n",
       "    rel_tol         0\n",
       "    n_init          2^(10)\n",
       "    n_max           10000000000\n",
       "MeanVarData (AccumulateData Object)\n",
       "    levels          1\n",
       "    solution        9.903\n",
       "    n               3743798\n",
       "    n_total         3744822\n",
       "    error_bound     0.050\n",
       "    confid_int      [9.853 9.953]\n",
       "    time_integrate  1.413"
      ]
     },
     "execution_count": 48,
     "metadata": {},
     "output_type": "execute_result"
    }
   ],
   "source": [
    "data"
   ]
  },
  {
   "cell_type": "code",
   "execution_count": 59,
   "metadata": {},
   "outputs": [],
   "source": [
    "tvec =  np.linspace(0,t_final,d+1)"
   ]
  },
  {
   "cell_type": "code",
   "execution_count": 60,
   "metadata": {},
   "outputs": [
    {
     "data": {
      "text/plain": [
       "array([0. , 0.1, 0.2, ..., 0.8, 0.9, 1. ])"
      ]
     },
     "execution_count": 60,
     "metadata": {},
     "output_type": "execute_result"
    }
   ],
   "source": [
    "tvec"
   ]
  },
  {
   "cell_type": "code",
   "execution_count": null,
   "metadata": {},
   "outputs": [],
   "source": []
  }
 ],
 "metadata": {
  "kernelspec": {
   "display_name": "Python 3",
   "language": "python",
   "name": "python3"
  },
  "language_info": {
   "codemirror_mode": {
    "name": "ipython",
    "version": 3
   },
   "file_extension": ".py",
   "mimetype": "text/x-python",
   "name": "python",
   "nbconvert_exporter": "python",
   "pygments_lexer": "ipython3",
   "version": "3.7.0"
  }
 },
 "nbformat": 4,
 "nbformat_minor": 4
}
